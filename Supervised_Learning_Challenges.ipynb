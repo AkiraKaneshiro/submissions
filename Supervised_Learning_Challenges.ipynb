{
 "metadata": {
  "name": "",
  "signature": "sha256:96474f1c2bd52319afa73b6f7f52a8998eb0664f5db69d7dc1579ced432a01ed"
 },
 "nbformat": 3,
 "nbformat_minor": 0,
 "worksheets": [
  {
   "cells": [
    {
     "cell_type": "markdown",
     "metadata": {},
     "source": [
      "# Dara Elass"
     ]
    },
    {
     "cell_type": "markdown",
     "metadata": {},
     "source": [
      "## Module Import"
     ]
    },
    {
     "cell_type": "code",
     "collapsed": false,
     "input": [
      "import pandas as pd\n",
      "from sklearn.cross_validation import train_test_split\n",
      "from sklearn.neighbors import KNeighborsClassifier\n",
      "from sklearn.metrics import accuracy_score\n",
      "import numpy as np\n",
      "from sklearn.linear_model import LogisticRegression\n",
      "import matplotlib.pyplot as plt\n",
      "from sklearn.learning_curve import learning_curve\n",
      "%matplotlib inline\n",
      "from sklearn.naive_bayes import GaussianNB \n",
      "import math"
     ],
     "language": "python",
     "metadata": {},
     "outputs": [],
     "prompt_number": 88
    },
    {
     "cell_type": "markdown",
     "metadata": {},
     "source": [
      "## Data Import"
     ]
    },
    {
     "cell_type": "code",
     "collapsed": false,
     "input": [
      "data_headers = ['class name']\n",
      "for i in range(16):\n",
      "    data_headers.append(str(i+2))\n",
      "votes_df = pd.read_csv('house-votes-84.data', names= data_headers)\n",
      "votes_df.head()"
     ],
     "language": "python",
     "metadata": {},
     "outputs": [
      {
       "html": [
        "<div style=\"max-height:1000px;max-width:1500px;overflow:auto;\">\n",
        "<table border=\"1\" class=\"dataframe\">\n",
        "  <thead>\n",
        "    <tr style=\"text-align: right;\">\n",
        "      <th></th>\n",
        "      <th>class name</th>\n",
        "      <th>2</th>\n",
        "      <th>3</th>\n",
        "      <th>4</th>\n",
        "      <th>5</th>\n",
        "      <th>6</th>\n",
        "      <th>7</th>\n",
        "      <th>8</th>\n",
        "      <th>9</th>\n",
        "      <th>10</th>\n",
        "      <th>11</th>\n",
        "      <th>12</th>\n",
        "      <th>13</th>\n",
        "      <th>14</th>\n",
        "      <th>15</th>\n",
        "      <th>16</th>\n",
        "      <th>17</th>\n",
        "    </tr>\n",
        "  </thead>\n",
        "  <tbody>\n",
        "    <tr>\n",
        "      <th>0</th>\n",
        "      <td> republican</td>\n",
        "      <td> n</td>\n",
        "      <td> y</td>\n",
        "      <td> n</td>\n",
        "      <td> y</td>\n",
        "      <td> y</td>\n",
        "      <td> y</td>\n",
        "      <td> n</td>\n",
        "      <td> n</td>\n",
        "      <td> n</td>\n",
        "      <td> y</td>\n",
        "      <td> ?</td>\n",
        "      <td> y</td>\n",
        "      <td> y</td>\n",
        "      <td> y</td>\n",
        "      <td> n</td>\n",
        "      <td> y</td>\n",
        "    </tr>\n",
        "    <tr>\n",
        "      <th>1</th>\n",
        "      <td> republican</td>\n",
        "      <td> n</td>\n",
        "      <td> y</td>\n",
        "      <td> n</td>\n",
        "      <td> y</td>\n",
        "      <td> y</td>\n",
        "      <td> y</td>\n",
        "      <td> n</td>\n",
        "      <td> n</td>\n",
        "      <td> n</td>\n",
        "      <td> n</td>\n",
        "      <td> n</td>\n",
        "      <td> y</td>\n",
        "      <td> y</td>\n",
        "      <td> y</td>\n",
        "      <td> n</td>\n",
        "      <td> ?</td>\n",
        "    </tr>\n",
        "    <tr>\n",
        "      <th>2</th>\n",
        "      <td>   democrat</td>\n",
        "      <td> ?</td>\n",
        "      <td> y</td>\n",
        "      <td> y</td>\n",
        "      <td> ?</td>\n",
        "      <td> y</td>\n",
        "      <td> y</td>\n",
        "      <td> n</td>\n",
        "      <td> n</td>\n",
        "      <td> n</td>\n",
        "      <td> n</td>\n",
        "      <td> y</td>\n",
        "      <td> n</td>\n",
        "      <td> y</td>\n",
        "      <td> y</td>\n",
        "      <td> n</td>\n",
        "      <td> n</td>\n",
        "    </tr>\n",
        "    <tr>\n",
        "      <th>3</th>\n",
        "      <td>   democrat</td>\n",
        "      <td> n</td>\n",
        "      <td> y</td>\n",
        "      <td> y</td>\n",
        "      <td> n</td>\n",
        "      <td> ?</td>\n",
        "      <td> y</td>\n",
        "      <td> n</td>\n",
        "      <td> n</td>\n",
        "      <td> n</td>\n",
        "      <td> n</td>\n",
        "      <td> y</td>\n",
        "      <td> n</td>\n",
        "      <td> y</td>\n",
        "      <td> n</td>\n",
        "      <td> n</td>\n",
        "      <td> y</td>\n",
        "    </tr>\n",
        "    <tr>\n",
        "      <th>4</th>\n",
        "      <td>   democrat</td>\n",
        "      <td> y</td>\n",
        "      <td> y</td>\n",
        "      <td> y</td>\n",
        "      <td> n</td>\n",
        "      <td> y</td>\n",
        "      <td> y</td>\n",
        "      <td> n</td>\n",
        "      <td> n</td>\n",
        "      <td> n</td>\n",
        "      <td> n</td>\n",
        "      <td> y</td>\n",
        "      <td> ?</td>\n",
        "      <td> y</td>\n",
        "      <td> y</td>\n",
        "      <td> y</td>\n",
        "      <td> y</td>\n",
        "    </tr>\n",
        "  </tbody>\n",
        "</table>\n",
        "</div>"
       ],
       "metadata": {},
       "output_type": "pyout",
       "prompt_number": 3,
       "text": [
        "   class name  2  3  4  5  6  7  8  9 10 11 12 13 14 15 16 17\n",
        "0  republican  n  y  n  y  y  y  n  n  n  y  ?  y  y  y  n  y\n",
        "1  republican  n  y  n  y  y  y  n  n  n  n  n  y  y  y  n  ?\n",
        "2    democrat  ?  y  y  ?  y  y  n  n  n  n  y  n  y  y  n  n\n",
        "3    democrat  n  y  y  n  ?  y  n  n  n  n  y  n  y  n  n  y\n",
        "4    democrat  y  y  y  n  y  y  n  n  n  n  y  ?  y  y  y  y"
       ]
      }
     ],
     "prompt_number": 3
    },
    {
     "cell_type": "markdown",
     "metadata": {},
     "source": [
      "## Challenge 1"
     ]
    },
    {
     "cell_type": "code",
     "collapsed": false,
     "input": [
      "votes_df = votes_df.replace('y',1)\n",
      "votes_df = votes_df.replace('n',0)\n",
      "votes_df = votes_df.replace('?',np.nan)\n",
      "\n",
      "votes_df.head()"
     ],
     "language": "python",
     "metadata": {},
     "outputs": [
      {
       "html": [
        "<div style=\"max-height:1000px;max-width:1500px;overflow:auto;\">\n",
        "<table border=\"1\" class=\"dataframe\">\n",
        "  <thead>\n",
        "    <tr style=\"text-align: right;\">\n",
        "      <th></th>\n",
        "      <th>class name</th>\n",
        "      <th>2</th>\n",
        "      <th>3</th>\n",
        "      <th>4</th>\n",
        "      <th>5</th>\n",
        "      <th>6</th>\n",
        "      <th>7</th>\n",
        "      <th>8</th>\n",
        "      <th>9</th>\n",
        "      <th>10</th>\n",
        "      <th>11</th>\n",
        "      <th>12</th>\n",
        "      <th>13</th>\n",
        "      <th>14</th>\n",
        "      <th>15</th>\n",
        "      <th>16</th>\n",
        "      <th>17</th>\n",
        "    </tr>\n",
        "  </thead>\n",
        "  <tbody>\n",
        "    <tr>\n",
        "      <th>0</th>\n",
        "      <td> republican</td>\n",
        "      <td>  0</td>\n",
        "      <td> 1</td>\n",
        "      <td> 0</td>\n",
        "      <td>  1</td>\n",
        "      <td>  1</td>\n",
        "      <td> 1</td>\n",
        "      <td> 0</td>\n",
        "      <td> 0</td>\n",
        "      <td> 0</td>\n",
        "      <td> 1</td>\n",
        "      <td>NaN</td>\n",
        "      <td>  1</td>\n",
        "      <td> 1</td>\n",
        "      <td> 1</td>\n",
        "      <td> 0</td>\n",
        "      <td>  1</td>\n",
        "    </tr>\n",
        "    <tr>\n",
        "      <th>1</th>\n",
        "      <td> republican</td>\n",
        "      <td>  0</td>\n",
        "      <td> 1</td>\n",
        "      <td> 0</td>\n",
        "      <td>  1</td>\n",
        "      <td>  1</td>\n",
        "      <td> 1</td>\n",
        "      <td> 0</td>\n",
        "      <td> 0</td>\n",
        "      <td> 0</td>\n",
        "      <td> 0</td>\n",
        "      <td>  0</td>\n",
        "      <td>  1</td>\n",
        "      <td> 1</td>\n",
        "      <td> 1</td>\n",
        "      <td> 0</td>\n",
        "      <td>NaN</td>\n",
        "    </tr>\n",
        "    <tr>\n",
        "      <th>2</th>\n",
        "      <td>   democrat</td>\n",
        "      <td>NaN</td>\n",
        "      <td> 1</td>\n",
        "      <td> 1</td>\n",
        "      <td>NaN</td>\n",
        "      <td>  1</td>\n",
        "      <td> 1</td>\n",
        "      <td> 0</td>\n",
        "      <td> 0</td>\n",
        "      <td> 0</td>\n",
        "      <td> 0</td>\n",
        "      <td>  1</td>\n",
        "      <td>  0</td>\n",
        "      <td> 1</td>\n",
        "      <td> 1</td>\n",
        "      <td> 0</td>\n",
        "      <td>  0</td>\n",
        "    </tr>\n",
        "    <tr>\n",
        "      <th>3</th>\n",
        "      <td>   democrat</td>\n",
        "      <td>  0</td>\n",
        "      <td> 1</td>\n",
        "      <td> 1</td>\n",
        "      <td>  0</td>\n",
        "      <td>NaN</td>\n",
        "      <td> 1</td>\n",
        "      <td> 0</td>\n",
        "      <td> 0</td>\n",
        "      <td> 0</td>\n",
        "      <td> 0</td>\n",
        "      <td>  1</td>\n",
        "      <td>  0</td>\n",
        "      <td> 1</td>\n",
        "      <td> 0</td>\n",
        "      <td> 0</td>\n",
        "      <td>  1</td>\n",
        "    </tr>\n",
        "    <tr>\n",
        "      <th>4</th>\n",
        "      <td>   democrat</td>\n",
        "      <td>  1</td>\n",
        "      <td> 1</td>\n",
        "      <td> 1</td>\n",
        "      <td>  0</td>\n",
        "      <td>  1</td>\n",
        "      <td> 1</td>\n",
        "      <td> 0</td>\n",
        "      <td> 0</td>\n",
        "      <td> 0</td>\n",
        "      <td> 0</td>\n",
        "      <td>  1</td>\n",
        "      <td>NaN</td>\n",
        "      <td> 1</td>\n",
        "      <td> 1</td>\n",
        "      <td> 1</td>\n",
        "      <td>  1</td>\n",
        "    </tr>\n",
        "  </tbody>\n",
        "</table>\n",
        "</div>"
       ],
       "metadata": {},
       "output_type": "pyout",
       "prompt_number": 4,
       "text": [
        "   class name   2  3  4   5   6  7  8  9  10  11  12  13  14  15  16  17\n",
        "0  republican   0  1  0   1   1  1  0  0   0   1 NaN   1   1   1   0   1\n",
        "1  republican   0  1  0   1   1  1  0  0   0   0   0   1   1   1   0 NaN\n",
        "2    democrat NaN  1  1 NaN   1  1  0  0   0   0   1   0   1   1   0   0\n",
        "3    democrat   0  1  1   0 NaN  1  0  0   0   0   1   0   1   0   0   1\n",
        "4    democrat   1  1  1   0   1  1  0  0   0   0   1 NaN   1   1   1   1"
       ]
      }
     ],
     "prompt_number": 4
    },
    {
     "cell_type": "code",
     "collapsed": false,
     "input": [
      "# replace ? with mean of votes\n",
      "for i in range(16):\n",
      "    issue = str(i+2)\n",
      "    themean = votes_df[issue].mean()\n",
      "    votes_df[issue] = votes_df[issue].replace(np.nan,themean)\n"
     ],
     "language": "python",
     "metadata": {},
     "outputs": [],
     "prompt_number": 5
    },
    {
     "cell_type": "markdown",
     "metadata": {},
     "source": [
      "## Challenge 2"
     ]
    },
    {
     "cell_type": "code",
     "collapsed": false,
     "input": [
      "training_set, test_set = train_test_split(votes_df, test_size=.30, random_state=4444)\n",
      "print training_set\n",
      "print len(training_set)\n",
      "print test_set\n",
      "print len(test_set)"
     ],
     "language": "python",
     "metadata": {},
     "outputs": [
      {
       "output_type": "stream",
       "stream": "stdout",
       "text": [
        "[['democrat' 0.0 1.0 ..., 0.0 1.0 1.0]\n",
        " ['republican' 0.0 1.0 ..., 1.0 0.0 1.0]\n",
        " ['democrat' 1.0 0.0 ..., 0.0 1.0 1.0]\n",
        " ..., \n",
        " ['democrat' 1.0 0.0 ..., 1.0 0.0 1.0]\n",
        " ['republican' 1.0 1.0 ..., 1.0 0.0 1.0]\n",
        " ['democrat' 1.0 1.0 ..., 0.0 1.0 0.8126888217522659]]\n",
        "304\n",
        "[['democrat' 0.0 1.0 ..., 1.0 0.0 1.0]\n",
        " ['republican' 0.0 0.0 ..., 1.0 0.0 1.0]\n",
        " ['democrat' 0.0 0.0 ..., 1.0 0.0 1.0]\n",
        " ..., \n",
        " ['democrat' 1.0 1.0 ..., 0.0 0.0 0.8126888217522659]\n",
        " ['democrat' 1.0 0.0 ..., 1.0 0.0 0.8126888217522659]\n",
        " ['republican' 0.0 0.0 ..., 1.0 0.0 0.0]]\n",
        "131\n"
       ]
      }
     ],
     "prompt_number": 6
    },
    {
     "cell_type": "markdown",
     "metadata": {},
     "source": [
      "## Challenge 3"
     ]
    },
    {
     "cell_type": "code",
     "collapsed": false,
     "input": [
      "# split training set into features and target value\n",
      "X_training = []\n",
      "y_training = []\n",
      "for i in range(len(training_set)):\n",
      "    X_training.append(training_set[i][1:])\n",
      "    y_training.append(training_set[i][0])\n",
      "\n",
      "# split test set into features and target value\n",
      "X_test = []\n",
      "y_test = []\n",
      "for j in range(len(test_set)):\n",
      "    X_test.append(test_set[j][1:])\n",
      "    y_test.append(test_set[j][0])\n",
      "\n",
      "the_scores = []\n",
      "#fit and test the model\n",
      "for k in range(20):\n",
      "    # fit the model\n",
      "    neigh = KNeighborsClassifier(n_neighbors=k+1)\n",
      "    neigh.fit(X_training, y_training)    \n",
      "    # test the model\n",
      "    y_predicted = neigh.predict(X_test)\n",
      "    score = accuracy_score(y_test, y_predicted)\n",
      "    the_scores.append(score)\n",
      "\n",
      "maxv = max(the_scores)\n",
      "k_vals = []\n",
      "for m in range(len(the_scores)):\n",
      "    if the_scores[m] == maxv:\n",
      "        k_vals.append(m+1)\n",
      "        \n",
      "print 'the best k values are', k_vals\n",
      "print 'the max score for these values are', maxv"
     ],
     "language": "python",
     "metadata": {},
     "outputs": [
      {
       "output_type": "stream",
       "stream": "stdout",
       "text": [
        "the best k values are [6, 9, 10]\n",
        "the max score for these values are 0.931297709924\n"
       ]
      }
     ],
     "prompt_number": 7
    },
    {
     "cell_type": "markdown",
     "metadata": {},
     "source": [
      "## Challenge 4"
     ]
    },
    {
     "cell_type": "code",
     "collapsed": false,
     "input": [
      "model_log = LogisticRegression()\n",
      "model_log.fit(X_training,y_training)\n",
      "\n",
      "y_predicted_log = model_log.predict(X_test)\n",
      "score_log = accuracy_score(y_test,y_predicted_log)\n",
      "print 'accuracy from logistic regression:', score_log"
     ],
     "language": "python",
     "metadata": {},
     "outputs": [
      {
       "output_type": "stream",
       "stream": "stdout",
       "text": [
        "accuracy from logistic regression: 0.93893129771\n"
       ]
      }
     ],
     "prompt_number": 8
    },
    {
     "cell_type": "markdown",
     "metadata": {},
     "source": [
      "## Challenge 5"
     ]
    },
    {
     "cell_type": "code",
     "collapsed": false,
     "input": [
      "df2 = votes_df.groupby('class name')['class name'].count()\n",
      "df2.plot(kind='bar')"
     ],
     "language": "python",
     "metadata": {},
     "outputs": [
      {
       "metadata": {},
       "output_type": "pyout",
       "prompt_number": 9,
       "text": [
        "<matplotlib.axes.AxesSubplot at 0x10978f910>"
       ]
      },
      {
       "metadata": {},
       "output_type": "display_data",
       "png": "[encoded data removed]",
       "text": [
        "<matplotlib.figure.Figure at 0x10999bbd0>"
       ]
      }
     ],
     "prompt_number": 9
    },
    {
     "cell_type": "code",
     "collapsed": false,
     "input": [
      "def simple_predictor_dem(X):\n",
      "    number = len(X)\n",
      "    result = ['democrat' for i in range(number)]\n",
      "    return result\n",
      "\n",
      "def simple_predictor_repub(X):\n",
      "    number = len(X)\n",
      "    result = ['republican' for i in range(number)]\n",
      "    return result"
     ],
     "language": "python",
     "metadata": {},
     "outputs": [],
     "prompt_number": 10
    },
    {
     "cell_type": "code",
     "collapsed": false,
     "input": [
      "y2 = simple_predictor_dem(X_test)\n",
      "\n",
      "y_predicted2 = model_log.predict(X_test)\n",
      "dem_predictor_accuracy = accuracy_score(y2,y_predicted2)\n",
      "print 'accuracy for dems from logistic regression:', dem_predictor_accuracy\n",
      "\n",
      "y3 = simple_predictor_repub(X_test)\n",
      "\n",
      "y_predicted3 = model_log.predict(X_test)\n",
      "repub_predictor_accuracy = accuracy_score(y3,y_predicted3)\n",
      "print 'accuracy for repubs from logistic regression:', repub_predictor_accuracy"
     ],
     "language": "python",
     "metadata": {},
     "outputs": [
      {
       "output_type": "stream",
       "stream": "stdout",
       "text": [
        "accuracy for dems from logistic regression: 0.618320610687\n",
        "accuracy for repubs from logistic regression: 0.381679389313\n"
       ]
      }
     ],
     "prompt_number": 11
    },
    {
     "cell_type": "markdown",
     "metadata": {},
     "source": [
      "## Challenge 6"
     ]
    },
    {
     "cell_type": "code",
     "collapsed": false,
     "input": [
      "# variables for plot: the_scores, score_log, dem_predictor_accuracy, repub_predictor_accuracy\n",
      "fig = plt.figure()\n",
      "ax = fig.add_subplot(111)\n",
      "plt.plot(the_scores,'b-',label = 'KNN')\n",
      "plt.xlabel('k-1')\n",
      "plt.ylabel('accuracy score')\n",
      "ax.set_xticks(range(0,21))\n",
      "ax.axhline(y=score_log,c='green',linewidth=1, label = 'Logistic Regression')\n",
      "ax.axhline(y=dem_predictor_accuracy,c='yellow',linewidth=1, label = 'Dem Predictor')\n",
      "ax.axhline(y=repub_predictor_accuracy,c='red',linewidth=1, label = 'Repub Predictor')\n",
      "plt.legend(loc='best')"
     ],
     "language": "python",
     "metadata": {},
     "outputs": [
      {
       "metadata": {},
       "output_type": "pyout",
       "prompt_number": 12,
       "text": [
        "<matplotlib.legend.Legend at 0x109a5fed0>"
       ]
      },
      {
       "metadata": {},
       "output_type": "display_data",
       "png": "[encoded data removed]",
       "text": [
        "<matplotlib.figure.Figure at 0x1099d5450>"
       ]
      }
     ],
     "prompt_number": 12
    },
    {
     "cell_type": "markdown",
     "metadata": {},
     "source": [
      "## Challenge 7"
     ]
    },
    {
     "cell_type": "code",
     "collapsed": false,
     "input": [
      "# logistic regression\n",
      "train_sizes, train_scores, test_scores = learning_curve(model_log,X_training,y_training)\n",
      "train_scores_mean = np.mean(train_scores, axis=1)\n",
      "train_scores_std = np.std(train_scores, axis=1)\n",
      "test_scores_mean = np.mean(test_scores, axis=1)\n",
      "test_scores_std = np.std(test_scores, axis=1)\n",
      "\n",
      "plt.plot(train_sizes, train_scores_mean, 'o-', color=\"r\", label=\"Training score\")\n",
      "plt.plot(train_sizes, test_scores_mean, 'o-', color=\"g\", label=\"Cross-validation score\")\n",
      "plt.legend(loc=\"best\")\n",
      "plt.ylabel('accuracy score')"
     ],
     "language": "python",
     "metadata": {},
     "outputs": [
      {
       "metadata": {},
       "output_type": "pyout",
       "prompt_number": 13,
       "text": [
        "<matplotlib.text.Text at 0x109cad850>"
       ]
      },
      {
       "metadata": {},
       "output_type": "display_data",
       "png": "[encoded data removed]",
       "text": [
        "<matplotlib.figure.Figure at 0x109bdfa90>"
       ]
      }
     ],
     "prompt_number": 13
    },
    {
     "cell_type": "code",
     "collapsed": false,
     "input": [
      "# KNN regression\n",
      "neigh_best = KNeighborsClassifier(n_neighbors=9)\n",
      "neigh_best.fit(X_training, y_training)    \n",
      "# test the model\n",
      "y_predicted = neigh_best.predict(X_test)\n",
      "score = accuracy_score(y_test, y_predicted)\n",
      "print 'best score is', score\n",
      "\n",
      "train_sizes, train_scores, test_scores = learning_curve(neigh_best,X_training,y_training,train_sizes=np.linspace(0.1,1.0,50))\n",
      "train_scores_mean = np.mean(train_scores, axis=1)\n",
      "train_scores_std = np.std(train_scores, axis=1)\n",
      "test_scores_mean = np.mean(test_scores, axis=1)\n",
      "test_scores_std = np.std(test_scores, axis=1)\n",
      "\n",
      "plt.plot(train_sizes, train_scores_mean, 'o-', color=\"r\", label=\"Training score\")\n",
      "plt.plot(train_sizes, test_scores_mean, 'o-', color=\"g\", label=\"Cross-validation score\")\n",
      "plt.legend(loc=\"best\")\n",
      "plt.ylabel('accuracy score')"
     ],
     "language": "python",
     "metadata": {},
     "outputs": [
      {
       "output_type": "stream",
       "stream": "stdout",
       "text": [
        "best score is 0.931297709924\n"
       ]
      },
      {
       "metadata": {},
       "output_type": "pyout",
       "prompt_number": 14,
       "text": [
        "<matplotlib.text.Text at 0x109bd4550>"
       ]
      },
      {
       "metadata": {},
       "output_type": "display_data",
       "png": "[encoded data removed]",
       "text": [
        "<matplotlib.figure.Figure at 0x1099d5490>"
       ]
      }
     ],
     "prompt_number": 14
    },
    {
     "cell_type": "markdown",
     "metadata": {},
     "source": [
      "## Challenge 8"
     ]
    },
    {
     "cell_type": "code",
     "collapsed": false,
     "input": [
      "# Gaussian Naive Bayes\n",
      "from sklearn.naive_bayes import GaussianNB\n",
      "\n",
      "gauss_model = GaussianNB()\n",
      "gauss_model.fit(X_training,y_training)\n",
      "y_predicted_gauss = gauss_model.predict(X_test)\n",
      "gauss_accuracy = accuracy_score(y_test,y_predicted_gauss)\n",
      "\n",
      "print 'gaussian accuracy score is', gauss_accuracy"
     ],
     "language": "python",
     "metadata": {},
     "outputs": [
      {
       "output_type": "stream",
       "stream": "stdout",
       "text": [
        "gaussian accuracy score is 0.93893129771\n"
       ]
      }
     ],
     "prompt_number": 15
    },
    {
     "cell_type": "code",
     "collapsed": false,
     "input": [
      "# SVM (Support Vector Machine) Classifier\n",
      "from sklearn.svm import SVC\n",
      "\n",
      "SVC_model = SVC()\n",
      "SVC_model.fit(X_training,y_training)\n",
      "y_predicted_SVC = SVC_model.predict(X_test)\n",
      "SVC_accuracy = accuracy_score(y_test,y_predicted_SVC)\n",
      "\n",
      "print 'SVC accuracy score is', SVC_accuracy"
     ],
     "language": "python",
     "metadata": {},
     "outputs": [
      {
       "output_type": "stream",
       "stream": "stdout",
       "text": [
        "SVC accuracy score is 0.954198473282\n"
       ]
      }
     ],
     "prompt_number": 16
    },
    {
     "cell_type": "code",
     "collapsed": false,
     "input": [
      "# Decision Tree\n",
      "from sklearn.tree import DecisionTreeClassifier\n",
      "\n",
      "decision_model = DecisionTreeClassifier()\n",
      "decision_model.fit(X_training,y_training)\n",
      "y_predicted_decision = decision_model.predict(X_test)\n",
      "decision_accuracy = accuracy_score(y_test,y_predicted_decision)\n",
      "\n",
      "print 'Decision Tree Classifier accuracy score is', decision_accuracy"
     ],
     "language": "python",
     "metadata": {},
     "outputs": [
      {
       "output_type": "stream",
       "stream": "stdout",
       "text": [
        "Decision Tree Classifier accuracy score is 0.946564885496\n"
       ]
      }
     ],
     "prompt_number": 17
    },
    {
     "cell_type": "code",
     "collapsed": false,
     "input": [
      "# Random Forest\n",
      "from sklearn.ensemble import RandomForestClassifier\n",
      "\n",
      "random_forest_model = RandomForestClassifier()\n",
      "random_forest_model.fit(X_training,y_training)\n",
      "y_predicted_random_forest = random_forest_model.predict(X_test)\n",
      "random_forest_accuracy = accuracy_score(y_test,y_predicted_random_forest)\n",
      "\n",
      "print 'Random Forest Classifier accuracy score is', random_forest_accuracy"
     ],
     "language": "python",
     "metadata": {},
     "outputs": [
      {
       "output_type": "stream",
       "stream": "stdout",
       "text": [
        "Random Forest Classifier accuracy score is 0.954198473282\n"
       ]
      }
     ],
     "prompt_number": 18
    },
    {
     "cell_type": "markdown",
     "metadata": {},
     "source": [
      "## Challenge 9"
     ]
    },
    {
     "cell_type": "code",
     "collapsed": false,
     "input": [
      "from sklearn.cross_validation import cross_val_score \n",
      "\n",
      "print 'cross validation score for KNN is', np.mean(cross_val_score(KNeighborsClassifier(), X_training, y_training))\n",
      "print 'cross validation score for logistic regression is', np.mean(cross_val_score(LogisticRegression(), X_training, y_training))\n",
      "print 'cross validation score for GaussianNB is', np.mean(cross_val_score(GaussianNB(), X_training, y_training))\n",
      "print 'cross validation score for SVC is', np.mean(cross_val_score(SVC(), X_training, y_training))\n",
      "print 'cross validation score for Decision Tree is', np.mean(cross_val_score(DecisionTreeClassifier(), X_training, y_training))\n",
      "print 'cross validation score for Random Forest is', np.mean(cross_val_score(RandomForestClassifier(), X_training, y_training))"
     ],
     "language": "python",
     "metadata": {},
     "outputs": [
      {
       "output_type": "stream",
       "stream": "stdout",
       "text": [
        "cross validation score for KNN is 0.931081343428\n",
        "cross validation score for logistic regression is 0.967190836731\n",
        "cross validation score for GaussianNB is 0.927748657219\n",
        "cross validation score for SVC is 0.963922862875\n",
        "cross validation score for Decision Tree is "
       ]
      },
      {
       "output_type": "stream",
       "stream": "stdout",
       "text": [
        "0.947388856533\n",
        "cross validation score for Random Forest is 0.957257490455\n"
       ]
      }
     ],
     "prompt_number": 20
    },
    {
     "cell_type": "markdown",
     "metadata": {},
     "source": [
      "## Challenge 10"
     ]
    },
    {
     "cell_type": "code",
     "collapsed": false,
     "input": [
      "data_headers = ['class name']\n",
      "for i in range(16):\n",
      "    data_headers.append(str(i+2))\n",
      "votes_df = pd.read_csv('house-votes-84.data', names= data_headers)\n",
      "votes_df.head()"
     ],
     "language": "python",
     "metadata": {},
     "outputs": [
      {
       "html": [
        "<div style=\"max-height:1000px;max-width:1500px;overflow:auto;\">\n",
        "<table border=\"1\" class=\"dataframe\">\n",
        "  <thead>\n",
        "    <tr style=\"text-align: right;\">\n",
        "      <th></th>\n",
        "      <th>class name</th>\n",
        "      <th>2</th>\n",
        "      <th>3</th>\n",
        "      <th>4</th>\n",
        "      <th>5</th>\n",
        "      <th>6</th>\n",
        "      <th>7</th>\n",
        "      <th>8</th>\n",
        "      <th>9</th>\n",
        "      <th>10</th>\n",
        "      <th>11</th>\n",
        "      <th>12</th>\n",
        "      <th>13</th>\n",
        "      <th>14</th>\n",
        "      <th>15</th>\n",
        "      <th>16</th>\n",
        "      <th>17</th>\n",
        "    </tr>\n",
        "  </thead>\n",
        "  <tbody>\n",
        "    <tr>\n",
        "      <th>0</th>\n",
        "      <td> republican</td>\n",
        "      <td> n</td>\n",
        "      <td> y</td>\n",
        "      <td> n</td>\n",
        "      <td> y</td>\n",
        "      <td> y</td>\n",
        "      <td> y</td>\n",
        "      <td> n</td>\n",
        "      <td> n</td>\n",
        "      <td> n</td>\n",
        "      <td> y</td>\n",
        "      <td> ?</td>\n",
        "      <td> y</td>\n",
        "      <td> y</td>\n",
        "      <td> y</td>\n",
        "      <td> n</td>\n",
        "      <td> y</td>\n",
        "    </tr>\n",
        "    <tr>\n",
        "      <th>1</th>\n",
        "      <td> republican</td>\n",
        "      <td> n</td>\n",
        "      <td> y</td>\n",
        "      <td> n</td>\n",
        "      <td> y</td>\n",
        "      <td> y</td>\n",
        "      <td> y</td>\n",
        "      <td> n</td>\n",
        "      <td> n</td>\n",
        "      <td> n</td>\n",
        "      <td> n</td>\n",
        "      <td> n</td>\n",
        "      <td> y</td>\n",
        "      <td> y</td>\n",
        "      <td> y</td>\n",
        "      <td> n</td>\n",
        "      <td> ?</td>\n",
        "    </tr>\n",
        "    <tr>\n",
        "      <th>2</th>\n",
        "      <td>   democrat</td>\n",
        "      <td> ?</td>\n",
        "      <td> y</td>\n",
        "      <td> y</td>\n",
        "      <td> ?</td>\n",
        "      <td> y</td>\n",
        "      <td> y</td>\n",
        "      <td> n</td>\n",
        "      <td> n</td>\n",
        "      <td> n</td>\n",
        "      <td> n</td>\n",
        "      <td> y</td>\n",
        "      <td> n</td>\n",
        "      <td> y</td>\n",
        "      <td> y</td>\n",
        "      <td> n</td>\n",
        "      <td> n</td>\n",
        "    </tr>\n",
        "    <tr>\n",
        "      <th>3</th>\n",
        "      <td>   democrat</td>\n",
        "      <td> n</td>\n",
        "      <td> y</td>\n",
        "      <td> y</td>\n",
        "      <td> n</td>\n",
        "      <td> ?</td>\n",
        "      <td> y</td>\n",
        "      <td> n</td>\n",
        "      <td> n</td>\n",
        "      <td> n</td>\n",
        "      <td> n</td>\n",
        "      <td> y</td>\n",
        "      <td> n</td>\n",
        "      <td> y</td>\n",
        "      <td> n</td>\n",
        "      <td> n</td>\n",
        "      <td> y</td>\n",
        "    </tr>\n",
        "    <tr>\n",
        "      <th>4</th>\n",
        "      <td>   democrat</td>\n",
        "      <td> y</td>\n",
        "      <td> y</td>\n",
        "      <td> y</td>\n",
        "      <td> n</td>\n",
        "      <td> y</td>\n",
        "      <td> y</td>\n",
        "      <td> n</td>\n",
        "      <td> n</td>\n",
        "      <td> n</td>\n",
        "      <td> n</td>\n",
        "      <td> y</td>\n",
        "      <td> ?</td>\n",
        "      <td> y</td>\n",
        "      <td> y</td>\n",
        "      <td> y</td>\n",
        "      <td> y</td>\n",
        "    </tr>\n",
        "  </tbody>\n",
        "</table>\n",
        "</div>"
       ],
       "metadata": {},
       "output_type": "pyout",
       "prompt_number": 21,
       "text": [
        "   class name  2  3  4  5  6  7  8  9 10 11 12 13 14 15 16 17\n",
        "0  republican  n  y  n  y  y  y  n  n  n  y  ?  y  y  y  n  y\n",
        "1  republican  n  y  n  y  y  y  n  n  n  n  n  y  y  y  n  ?\n",
        "2    democrat  ?  y  y  ?  y  y  n  n  n  n  y  n  y  y  n  n\n",
        "3    democrat  n  y  y  n  ?  y  n  n  n  n  y  n  y  n  n  y\n",
        "4    democrat  y  y  y  n  y  y  n  n  n  n  y  ?  y  y  y  y"
       ]
      }
     ],
     "prompt_number": 21
    },
    {
     "cell_type": "code",
     "collapsed": false,
     "input": [
      "votes_df = votes_df.replace('y',1)\n",
      "votes_df = votes_df.replace('n',0)\n",
      "votes_df = votes_df.replace('?',np.nan)\n",
      "\n",
      "votes_df.head()"
     ],
     "language": "python",
     "metadata": {},
     "outputs": [
      {
       "html": [
        "<div style=\"max-height:1000px;max-width:1500px;overflow:auto;\">\n",
        "<table border=\"1\" class=\"dataframe\">\n",
        "  <thead>\n",
        "    <tr style=\"text-align: right;\">\n",
        "      <th></th>\n",
        "      <th>class name</th>\n",
        "      <th>2</th>\n",
        "      <th>3</th>\n",
        "      <th>4</th>\n",
        "      <th>5</th>\n",
        "      <th>6</th>\n",
        "      <th>7</th>\n",
        "      <th>8</th>\n",
        "      <th>9</th>\n",
        "      <th>10</th>\n",
        "      <th>11</th>\n",
        "      <th>12</th>\n",
        "      <th>13</th>\n",
        "      <th>14</th>\n",
        "      <th>15</th>\n",
        "      <th>16</th>\n",
        "      <th>17</th>\n",
        "    </tr>\n",
        "  </thead>\n",
        "  <tbody>\n",
        "    <tr>\n",
        "      <th>0</th>\n",
        "      <td> republican</td>\n",
        "      <td>  0</td>\n",
        "      <td> 1</td>\n",
        "      <td> 0</td>\n",
        "      <td>  1</td>\n",
        "      <td>  1</td>\n",
        "      <td> 1</td>\n",
        "      <td> 0</td>\n",
        "      <td> 0</td>\n",
        "      <td> 0</td>\n",
        "      <td> 1</td>\n",
        "      <td>NaN</td>\n",
        "      <td>  1</td>\n",
        "      <td> 1</td>\n",
        "      <td> 1</td>\n",
        "      <td> 0</td>\n",
        "      <td>  1</td>\n",
        "    </tr>\n",
        "    <tr>\n",
        "      <th>1</th>\n",
        "      <td> republican</td>\n",
        "      <td>  0</td>\n",
        "      <td> 1</td>\n",
        "      <td> 0</td>\n",
        "      <td>  1</td>\n",
        "      <td>  1</td>\n",
        "      <td> 1</td>\n",
        "      <td> 0</td>\n",
        "      <td> 0</td>\n",
        "      <td> 0</td>\n",
        "      <td> 0</td>\n",
        "      <td>  0</td>\n",
        "      <td>  1</td>\n",
        "      <td> 1</td>\n",
        "      <td> 1</td>\n",
        "      <td> 0</td>\n",
        "      <td>NaN</td>\n",
        "    </tr>\n",
        "    <tr>\n",
        "      <th>2</th>\n",
        "      <td>   democrat</td>\n",
        "      <td>NaN</td>\n",
        "      <td> 1</td>\n",
        "      <td> 1</td>\n",
        "      <td>NaN</td>\n",
        "      <td>  1</td>\n",
        "      <td> 1</td>\n",
        "      <td> 0</td>\n",
        "      <td> 0</td>\n",
        "      <td> 0</td>\n",
        "      <td> 0</td>\n",
        "      <td>  1</td>\n",
        "      <td>  0</td>\n",
        "      <td> 1</td>\n",
        "      <td> 1</td>\n",
        "      <td> 0</td>\n",
        "      <td>  0</td>\n",
        "    </tr>\n",
        "    <tr>\n",
        "      <th>3</th>\n",
        "      <td>   democrat</td>\n",
        "      <td>  0</td>\n",
        "      <td> 1</td>\n",
        "      <td> 1</td>\n",
        "      <td>  0</td>\n",
        "      <td>NaN</td>\n",
        "      <td> 1</td>\n",
        "      <td> 0</td>\n",
        "      <td> 0</td>\n",
        "      <td> 0</td>\n",
        "      <td> 0</td>\n",
        "      <td>  1</td>\n",
        "      <td>  0</td>\n",
        "      <td> 1</td>\n",
        "      <td> 0</td>\n",
        "      <td> 0</td>\n",
        "      <td>  1</td>\n",
        "    </tr>\n",
        "    <tr>\n",
        "      <th>4</th>\n",
        "      <td>   democrat</td>\n",
        "      <td>  1</td>\n",
        "      <td> 1</td>\n",
        "      <td> 1</td>\n",
        "      <td>  0</td>\n",
        "      <td>  1</td>\n",
        "      <td> 1</td>\n",
        "      <td> 0</td>\n",
        "      <td> 0</td>\n",
        "      <td> 0</td>\n",
        "      <td> 0</td>\n",
        "      <td>  1</td>\n",
        "      <td>NaN</td>\n",
        "      <td> 1</td>\n",
        "      <td> 1</td>\n",
        "      <td> 1</td>\n",
        "      <td>  1</td>\n",
        "    </tr>\n",
        "  </tbody>\n",
        "</table>\n",
        "</div>"
       ],
       "metadata": {},
       "output_type": "pyout",
       "prompt_number": 22,
       "text": [
        "   class name   2  3  4   5   6  7  8  9  10  11  12  13  14  15  16  17\n",
        "0  republican   0  1  0   1   1  1  0  0   0   1 NaN   1   1   1   0   1\n",
        "1  republican   0  1  0   1   1  1  0  0   0   0   0   1   1   1   0 NaN\n",
        "2    democrat NaN  1  1 NaN   1  1  0  0   0   0   1   0   1   1   0   0\n",
        "3    democrat   0  1  1   0 NaN  1  0  0   0   0   1   0   1   0   0   1\n",
        "4    democrat   1  1  1   0   1  1  0  0   0   0   1 NaN   1   1   1   1"
       ]
      }
     ],
     "prompt_number": 22
    },
    {
     "cell_type": "code",
     "collapsed": false,
     "input": [
      "# replace ? with majority vote (0 or 1)\n",
      "for i in range(16):\n",
      "    issue = str(i+2)\n",
      "    themode = int(votes_df[issue].mode())\n",
      "    votes_df[issue] = votes_df[issue].replace(np.nan,themode)\n",
      "\n",
      "votes_df.head()"
     ],
     "language": "python",
     "metadata": {},
     "outputs": [
      {
       "html": [
        "<div style=\"max-height:1000px;max-width:1500px;overflow:auto;\">\n",
        "<table border=\"1\" class=\"dataframe\">\n",
        "  <thead>\n",
        "    <tr style=\"text-align: right;\">\n",
        "      <th></th>\n",
        "      <th>class name</th>\n",
        "      <th>2</th>\n",
        "      <th>3</th>\n",
        "      <th>4</th>\n",
        "      <th>5</th>\n",
        "      <th>6</th>\n",
        "      <th>7</th>\n",
        "      <th>8</th>\n",
        "      <th>9</th>\n",
        "      <th>10</th>\n",
        "      <th>11</th>\n",
        "      <th>12</th>\n",
        "      <th>13</th>\n",
        "      <th>14</th>\n",
        "      <th>15</th>\n",
        "      <th>16</th>\n",
        "      <th>17</th>\n",
        "    </tr>\n",
        "  </thead>\n",
        "  <tbody>\n",
        "    <tr>\n",
        "      <th>0</th>\n",
        "      <td> republican</td>\n",
        "      <td> 0</td>\n",
        "      <td> 1</td>\n",
        "      <td> 0</td>\n",
        "      <td> 1</td>\n",
        "      <td> 1</td>\n",
        "      <td> 1</td>\n",
        "      <td> 0</td>\n",
        "      <td> 0</td>\n",
        "      <td> 0</td>\n",
        "      <td> 1</td>\n",
        "      <td> 0</td>\n",
        "      <td> 1</td>\n",
        "      <td> 1</td>\n",
        "      <td> 1</td>\n",
        "      <td> 0</td>\n",
        "      <td> 1</td>\n",
        "    </tr>\n",
        "    <tr>\n",
        "      <th>1</th>\n",
        "      <td> republican</td>\n",
        "      <td> 0</td>\n",
        "      <td> 1</td>\n",
        "      <td> 0</td>\n",
        "      <td> 1</td>\n",
        "      <td> 1</td>\n",
        "      <td> 1</td>\n",
        "      <td> 0</td>\n",
        "      <td> 0</td>\n",
        "      <td> 0</td>\n",
        "      <td> 0</td>\n",
        "      <td> 0</td>\n",
        "      <td> 1</td>\n",
        "      <td> 1</td>\n",
        "      <td> 1</td>\n",
        "      <td> 0</td>\n",
        "      <td> 1</td>\n",
        "    </tr>\n",
        "    <tr>\n",
        "      <th>2</th>\n",
        "      <td>   democrat</td>\n",
        "      <td> 0</td>\n",
        "      <td> 1</td>\n",
        "      <td> 1</td>\n",
        "      <td> 0</td>\n",
        "      <td> 1</td>\n",
        "      <td> 1</td>\n",
        "      <td> 0</td>\n",
        "      <td> 0</td>\n",
        "      <td> 0</td>\n",
        "      <td> 0</td>\n",
        "      <td> 1</td>\n",
        "      <td> 0</td>\n",
        "      <td> 1</td>\n",
        "      <td> 1</td>\n",
        "      <td> 0</td>\n",
        "      <td> 0</td>\n",
        "    </tr>\n",
        "    <tr>\n",
        "      <th>3</th>\n",
        "      <td>   democrat</td>\n",
        "      <td> 0</td>\n",
        "      <td> 1</td>\n",
        "      <td> 1</td>\n",
        "      <td> 0</td>\n",
        "      <td> 1</td>\n",
        "      <td> 1</td>\n",
        "      <td> 0</td>\n",
        "      <td> 0</td>\n",
        "      <td> 0</td>\n",
        "      <td> 0</td>\n",
        "      <td> 1</td>\n",
        "      <td> 0</td>\n",
        "      <td> 1</td>\n",
        "      <td> 0</td>\n",
        "      <td> 0</td>\n",
        "      <td> 1</td>\n",
        "    </tr>\n",
        "    <tr>\n",
        "      <th>4</th>\n",
        "      <td>   democrat</td>\n",
        "      <td> 1</td>\n",
        "      <td> 1</td>\n",
        "      <td> 1</td>\n",
        "      <td> 0</td>\n",
        "      <td> 1</td>\n",
        "      <td> 1</td>\n",
        "      <td> 0</td>\n",
        "      <td> 0</td>\n",
        "      <td> 0</td>\n",
        "      <td> 0</td>\n",
        "      <td> 1</td>\n",
        "      <td> 0</td>\n",
        "      <td> 1</td>\n",
        "      <td> 1</td>\n",
        "      <td> 1</td>\n",
        "      <td> 1</td>\n",
        "    </tr>\n",
        "  </tbody>\n",
        "</table>\n",
        "</div>"
       ],
       "metadata": {},
       "output_type": "pyout",
       "prompt_number": 27,
       "text": [
        "   class name  2  3  4  5  6  7  8  9  10  11  12  13  14  15  16  17\n",
        "0  republican  0  1  0  1  1  1  0  0   0   1   0   1   1   1   0   1\n",
        "1  republican  0  1  0  1  1  1  0  0   0   0   0   1   1   1   0   1\n",
        "2    democrat  0  1  1  0  1  1  0  0   0   0   1   0   1   1   0   0\n",
        "3    democrat  0  1  1  0  1  1  0  0   0   0   1   0   1   0   0   1\n",
        "4    democrat  1  1  1  0  1  1  0  0   0   0   1   0   1   1   1   1"
       ]
      }
     ],
     "prompt_number": 27
    },
    {
     "cell_type": "code",
     "collapsed": false,
     "input": [
      "training_set, test_set = train_test_split(votes_df, test_size=.30, random_state=4444)\n",
      "print training_set\n",
      "print len(training_set)\n",
      "print test_set\n",
      "print len(test_set)"
     ],
     "language": "python",
     "metadata": {},
     "outputs": [
      {
       "output_type": "stream",
       "stream": "stdout",
       "text": [
        "[['democrat' 0.0 1.0 ..., 0.0 1.0 1.0]\n",
        " ['republican' 0.0 1.0 ..., 1.0 0.0 1.0]\n",
        " ['democrat' 1.0 0.0 ..., 0.0 1.0 1.0]\n",
        " ..., \n",
        " ['democrat' 1.0 0.0 ..., 1.0 0.0 1.0]\n",
        " ['republican' 1.0 1.0 ..., 1.0 0.0 1.0]\n",
        " ['democrat' 1.0 1.0 ..., 0.0 1.0 1.0]]\n",
        "304\n",
        "[['democrat' 0.0 1.0 ..., 1.0 0.0 1.0]\n",
        " ['republican' 0.0 0.0 ..., 1.0 0.0 1.0]\n",
        " ['democrat' 0.0 0.0 ..., 1.0 0.0 1.0]\n",
        " ..., \n",
        " ['democrat' 1.0 1.0 ..., 0.0 0.0 1.0]\n",
        " ['democrat' 1.0 0.0 ..., 1.0 0.0 1.0]\n",
        " ['republican' 0.0 0.0 ..., 1.0 0.0 0.0]]\n",
        "131\n"
       ]
      }
     ],
     "prompt_number": 28
    },
    {
     "cell_type": "code",
     "collapsed": false,
     "input": [
      "# split training set into features and target value (Target value is the vote on the first issue)\n",
      "X_training = []\n",
      "y_training = []\n",
      "for i in range(len(training_set)):\n",
      "    X_training.append(training_set[i][2:])\n",
      "    y_training.append(training_set[i][1])\n",
      "\n",
      "# split test set into features and target value\n",
      "X_test = []\n",
      "y_test = []\n",
      "for j in range(len(test_set)):\n",
      "    X_test.append(test_set[j][2:])\n",
      "    y_test.append(test_set[j][1])\n",
      "    \n",
      "model_log = LogisticRegression()\n",
      "model_log.fit(X_training,y_training)\n",
      "\n",
      "y_predicted_log = model_log.predict(X_test)\n",
      "score_log = accuracy_score(y_test,y_predicted_log)\n",
      "print 'accuracy from logistic regression for the first voted issue:', score_log"
     ],
     "language": "python",
     "metadata": {},
     "outputs": [
      {
       "output_type": "stream",
       "stream": "stdout",
       "text": [
        "accuracy from logistic regression for the first voted issue: 0.671755725191\n"
       ]
      }
     ],
     "prompt_number": 29
    },
    {
     "cell_type": "markdown",
     "metadata": {},
     "source": [
      "## Challenge 11"
     ]
    },
    {
     "cell_type": "code",
     "collapsed": false,
     "input": [
      "movies = pd.read_csv('2013_movies.csv')\n",
      "movies.head()"
     ],
     "language": "python",
     "metadata": {},
     "outputs": [
      {
       "html": [
        "<div style=\"max-height:1000px;max-width:1500px;overflow:auto;\">\n",
        "<table border=\"1\" class=\"dataframe\">\n",
        "  <thead>\n",
        "    <tr style=\"text-align: right;\">\n",
        "      <th></th>\n",
        "      <th>Title</th>\n",
        "      <th>Budget</th>\n",
        "      <th>DomesticTotalGross</th>\n",
        "      <th>Director</th>\n",
        "      <th>Rating</th>\n",
        "      <th>Runtime</th>\n",
        "      <th>ReleaseDate</th>\n",
        "    </tr>\n",
        "  </thead>\n",
        "  <tbody>\n",
        "    <tr>\n",
        "      <th>0</th>\n",
        "      <td> The Hunger Games: Catching Fire</td>\n",
        "      <td> 130000000</td>\n",
        "      <td> 424668047</td>\n",
        "      <td>          Francis Lawrence</td>\n",
        "      <td> PG-13</td>\n",
        "      <td> 146</td>\n",
        "      <td> 2013-11-22 00:00:00</td>\n",
        "    </tr>\n",
        "    <tr>\n",
        "      <th>1</th>\n",
        "      <td>                      Iron Man 3</td>\n",
        "      <td> 200000000</td>\n",
        "      <td> 409013994</td>\n",
        "      <td>               Shane Black</td>\n",
        "      <td> PG-13</td>\n",
        "      <td> 129</td>\n",
        "      <td> 2013-05-03 00:00:00</td>\n",
        "    </tr>\n",
        "    <tr>\n",
        "      <th>2</th>\n",
        "      <td>                          Frozen</td>\n",
        "      <td> 150000000</td>\n",
        "      <td> 400738009</td>\n",
        "      <td>    Chris BuckJennifer Lee</td>\n",
        "      <td>    PG</td>\n",
        "      <td> 108</td>\n",
        "      <td> 2013-11-22 00:00:00</td>\n",
        "    </tr>\n",
        "    <tr>\n",
        "      <th>3</th>\n",
        "      <td>                 Despicable Me 2</td>\n",
        "      <td>  76000000</td>\n",
        "      <td> 368061265</td>\n",
        "      <td> Pierre CoffinChris Renaud</td>\n",
        "      <td>    PG</td>\n",
        "      <td>  98</td>\n",
        "      <td> 2013-07-03 00:00:00</td>\n",
        "    </tr>\n",
        "    <tr>\n",
        "      <th>4</th>\n",
        "      <td>                    Man of Steel</td>\n",
        "      <td> 225000000</td>\n",
        "      <td> 291045518</td>\n",
        "      <td>               Zack Snyder</td>\n",
        "      <td> PG-13</td>\n",
        "      <td> 143</td>\n",
        "      <td> 2013-06-14 00:00:00</td>\n",
        "    </tr>\n",
        "  </tbody>\n",
        "</table>\n",
        "</div>"
       ],
       "metadata": {},
       "output_type": "pyout",
       "prompt_number": 30,
       "text": [
        "                             Title     Budget  DomesticTotalGross  \\\n",
        "0  The Hunger Games: Catching Fire  130000000           424668047   \n",
        "1                       Iron Man 3  200000000           409013994   \n",
        "2                           Frozen  150000000           400738009   \n",
        "3                  Despicable Me 2   76000000           368061265   \n",
        "4                     Man of Steel  225000000           291045518   \n",
        "\n",
        "                    Director Rating  Runtime          ReleaseDate  \n",
        "0           Francis Lawrence  PG-13      146  2013-11-22 00:00:00  \n",
        "1                Shane Black  PG-13      129  2013-05-03 00:00:00  \n",
        "2     Chris BuckJennifer Lee     PG      108  2013-11-22 00:00:00  \n",
        "3  Pierre CoffinChris Renaud     PG       98  2013-07-03 00:00:00  \n",
        "4                Zack Snyder  PG-13      143  2013-06-14 00:00:00  "
       ]
      }
     ],
     "prompt_number": 30
    },
    {
     "cell_type": "code",
     "collapsed": false,
     "input": [
      "ratings = movies.groupby('Rating')['Title'].count()\n",
      "ratings.plot(kind='bar')"
     ],
     "language": "python",
     "metadata": {},
     "outputs": [
      {
       "metadata": {},
       "output_type": "pyout",
       "prompt_number": 34,
       "text": [
        "<matplotlib.axes.AxesSubplot at 0x10a8d31d0>"
       ]
      },
      {
       "metadata": {},
       "output_type": "display_data",
       "png": "[encoded data removed]",
       "text": [
        "<matplotlib.figure.Figure at 0x10a8d3550>"
       ]
      }
     ],
     "prompt_number": 34
    },
    {
     "cell_type": "code",
     "collapsed": false,
     "input": [
      "movies2 = movies[['Rating','Budget','DomesticTotalGross','Runtime']]\n",
      "movies2 = movies2[(np.isnan(movies2['Budget']) == False)]\n",
      "len(movies2)"
     ],
     "language": "python",
     "metadata": {},
     "outputs": [
      {
       "metadata": {},
       "output_type": "pyout",
       "prompt_number": 97,
       "text": [
        "89"
       ]
      }
     ],
     "prompt_number": 97
    },
    {
     "cell_type": "code",
     "collapsed": false,
     "input": [
      "training_set, test_set = train_test_split(movies2, test_size=.30, random_state=4444)"
     ],
     "language": "python",
     "metadata": {},
     "outputs": [],
     "prompt_number": 98
    },
    {
     "cell_type": "code",
     "collapsed": false,
     "input": [
      "# split training set into features and target value\n",
      "X_training = []\n",
      "y_training = []\n",
      "for i in range(len(training_set)):\n",
      "    X_training.append(training_set[i][1:])\n",
      "    y_training.append(training_set[i][0])\n",
      "\n",
      "# split test set into features and target value\n",
      "X_test = []\n",
      "y_test = []\n",
      "for j in range(len(test_set)):\n",
      "    X_test.append(test_set[j][1:])\n",
      "    y_test.append(test_set[j][0])\n",
      "\n",
      "the_scores = []\n",
      "#fit and test the model\n",
      "for k in range(20):\n",
      "    # fit the model\n",
      "    neigh = KNeighborsClassifier(n_neighbors=k+1)\n",
      "    neigh.fit(X_training, y_training)    \n",
      "    # test the model\n",
      "    y_predicted = neigh.predict(X_test)\n",
      "    score = accuracy_score(y_test, y_predicted)\n",
      "    the_scores.append(score)\n",
      "\n",
      "maxv = max(the_scores)\n",
      "k_vals = []\n",
      "for m in range(len(the_scores)):\n",
      "    if the_scores[m] == maxv:\n",
      "        k_vals.append(m+1)\n",
      "        \n",
      "print 'the best k values are', k_vals\n",
      "print 'the max score for these values are', maxv"
     ],
     "language": "python",
     "metadata": {},
     "outputs": [
      {
       "output_type": "stream",
       "stream": "stdout",
       "text": [
        "the best k values are [14]\n",
        "the max score for these values are 0.518518518519\n"
       ]
      }
     ],
     "prompt_number": 101
    },
    {
     "cell_type": "code",
     "collapsed": false,
     "input": [
      "model_log = LogisticRegression()\n",
      "model_log.fit(X_training,y_training)\n",
      "\n",
      "y_predicted_log = model_log.predict(X_test)\n",
      "score_log = accuracy_score(y_test,y_predicted_log)\n",
      "print 'accuracy from logistic regression:', score_log"
     ],
     "language": "python",
     "metadata": {},
     "outputs": [
      {
       "output_type": "stream",
       "stream": "stdout",
       "text": [
        "accuracy from logistic regression: 0.481481481481\n"
       ]
      }
     ],
     "prompt_number": 102
    },
    {
     "cell_type": "code",
     "collapsed": false,
     "input": [
      "def simple_predictor_PG13(X):\n",
      "    number = len(X)\n",
      "    result = ['PG-13' for i in range(number)]\n",
      "    return result\n",
      "\n",
      "y2 = simple_predictor_PG13(X_test)\n",
      "\n",
      "y_predicted2 = model_log.predict(X_test)\n",
      "predictor_accuracy = accuracy_score(y2,y_predicted2)\n",
      "print 'accuracy for PG13 from logistic regression:', predictor_accuracy"
     ],
     "language": "python",
     "metadata": {},
     "outputs": [
      {
       "output_type": "stream",
       "stream": "stdout",
       "text": [
        "accuracy for PG13 from logistic regression: 0.851851851852\n"
       ]
      }
     ],
     "prompt_number": 103
    },
    {
     "cell_type": "code",
     "collapsed": false,
     "input": [
      "# variables for plot: the_scores, score_log, dem_predictor_accuracy, repub_predictor_accuracy\n",
      "fig = plt.figure()\n",
      "ax = fig.add_subplot(111)\n",
      "plt.plot(the_scores,'b-',label = 'KNN')\n",
      "plt.xlabel('k-1')\n",
      "plt.ylabel('accuracy score')\n",
      "ax.set_xticks(range(0,21))\n",
      "ax.axhline(y=score_log,c='green',linewidth=1, label = 'Logistic Regression')\n",
      "ax.axhline(y=predictor_accuracy,c='yellow',linewidth=1, label = 'PG13 Predictor')\n",
      "plt.legend(loc='best')"
     ],
     "language": "python",
     "metadata": {},
     "outputs": [
      {
       "metadata": {},
       "output_type": "pyout",
       "prompt_number": 107,
       "text": [
        "<matplotlib.legend.Legend at 0x10abb5190>"
       ]
      },
      {
       "metadata": {},
       "output_type": "display_data",
       "png": "[encoded data removed]",
       "text": [
        "<matplotlib.figure.Figure at 0x10b323110>"
       ]
      }
     ],
     "prompt_number": 107
    },
    {
     "cell_type": "markdown",
     "metadata": {},
     "source": [
      "## Challenge 12"
     ]
    },
    {
     "cell_type": "code",
     "collapsed": false,
     "input": [
      "headers = ['Age','OpYear','PosNodes','Status']\n",
      "cancer = pd.read_csv('haberman.data',names = headers)\n",
      "print cancer.head()\n",
      "print len(cancer)"
     ],
     "language": "python",
     "metadata": {},
     "outputs": [
      {
       "output_type": "stream",
       "stream": "stdout",
       "text": [
        "   Age  OpYear  PosNodes  Status\n",
        "0   30      64         1       1\n",
        "1   30      62         3       1\n",
        "2   30      65         0       1\n",
        "3   31      59         2       1\n",
        "4   31      65         4       1\n",
        "306\n"
       ]
      }
     ],
     "prompt_number": 111
    },
    {
     "cell_type": "code",
     "collapsed": false,
     "input": [
      "mean_age = np.mean(cancer['Age'])\n",
      "print 'mean age is', mean_age\n",
      "std_age = np.std(cancer.Age)\n",
      "print 'standard deviation of age is', std_age"
     ],
     "language": "python",
     "metadata": {},
     "outputs": [
      {
       "output_type": "stream",
       "stream": "stdout",
       "text": [
        "mean age is 52.4575163399\n",
        "standard deviation of age is 10.7857852036\n"
       ]
      }
     ],
     "prompt_number": 121
    },
    {
     "cell_type": "code",
     "collapsed": false,
     "input": [
      "survive_5_yrs = cancer[cancer['Status']==1]\n",
      "mean_age_5_more = np.mean(survive_5_yrs['Age'])\n",
      "print 'mean age of survivers after 5 years is', mean_age_5_more\n",
      "std_age_5_more = np.std(survive_5_yrs.Age)\n",
      "print 'standard deviation of age or survivers after 5 years is', std_age_5_more"
     ],
     "language": "python",
     "metadata": {},
     "outputs": [
      {
       "output_type": "stream",
       "stream": "stdout",
       "text": [
        "mean age of survivers after 5 years is 52.0177777778\n",
        "standard deviation of age or survivers after 5 years is 10.9876554751\n"
       ]
      }
     ],
     "prompt_number": 122
    },
    {
     "cell_type": "code",
     "collapsed": false,
     "input": [
      "not_survive_5_yrs = cancer[cancer['Status']==2]\n",
      "mean_age_5_less = np.mean(not_survive_5_yrs['Age'])\n",
      "print 'mean age of NOT survivers after 5 years is', mean_age_5_less\n",
      "std_age_5_less = np.std(not_survive_5_yrs.Age)\n",
      "print 'standard deviation of age or NOT survivers after 5 years is', std_age_5_less"
     ],
     "language": "python",
     "metadata": {},
     "outputs": [
      {
       "output_type": "stream",
       "stream": "stdout",
       "text": [
        "mean age of NOT survivers after 5 years is 53.6790123457\n",
        "standard deviation of age or NOT survivers after 5 years is 10.104182193\n"
       ]
      }
     ],
     "prompt_number": 123
    },
    {
     "cell_type": "code",
     "collapsed": false,
     "input": [
      "plt.figure()\n",
      "cancer['Age'].hist(bins=20)\n",
      "plt.xlabel('age')"
     ],
     "language": "python",
     "metadata": {},
     "outputs": [
      {
       "metadata": {},
       "output_type": "pyout",
       "prompt_number": 130,
       "text": [
        "<matplotlib.text.Text at 0x10bc211d0>"
       ]
      },
      {
       "metadata": {},
       "output_type": "display_data",
       "png": "[encoded data removed]",
       "text": [
        "<matplotlib.figure.Figure at 0x10bec5190>"
       ]
      }
     ],
     "prompt_number": 130
    },
    {
     "cell_type": "code",
     "collapsed": false,
     "input": [
      "plt.figure()\n",
      "cancer['PosNodes'].hist(bins = 20)\n",
      "plt.xlabel('Number of Axillary Nodes')"
     ],
     "language": "python",
     "metadata": {},
     "outputs": [
      {
       "metadata": {},
       "output_type": "pyout",
       "prompt_number": 129,
       "text": [
        "<matplotlib.text.Text at 0x10be5b2d0>"
       ]
      },
      {
       "metadata": {},
       "output_type": "display_data",
       "png": "[encoded data removed]",
       "text": [
        "<matplotlib.figure.Figure at 0x10be450d0>"
       ]
      }
     ],
     "prompt_number": 129
    },
    {
     "cell_type": "code",
     "collapsed": false,
     "input": [
      "earliest_year = min(cancer['OpYear'])\n",
      "print 'the earliest year of operation is',1900+earliest_year"
     ],
     "language": "python",
     "metadata": {},
     "outputs": [
      {
       "output_type": "stream",
       "stream": "stdout",
       "text": [
        " the earliest year of operation is 1958\n"
       ]
      }
     ],
     "prompt_number": 134
    },
    {
     "cell_type": "code",
     "collapsed": false,
     "input": [
      "most_recent_year = max(cancer['OpYear'])\n",
      "print 'the most recent year of operation is', 1900+most_recent_year"
     ],
     "language": "python",
     "metadata": {},
     "outputs": [
      {
       "output_type": "stream",
       "stream": "stdout",
       "text": [
        "the most recent year of operation is 1969\n"
       ]
      }
     ],
     "prompt_number": 135
    },
    {
     "cell_type": "code",
     "collapsed": false,
     "input": [
      "training_set, test_set = train_test_split(cancer, test_size=.30, random_state=4444)"
     ],
     "language": "python",
     "metadata": {},
     "outputs": [],
     "prompt_number": 136
    },
    {
     "cell_type": "code",
     "collapsed": false,
     "input": [
      "# split training set into features and target value\n",
      "X_training = []\n",
      "y_training = []\n",
      "for i in range(len(training_set)):\n",
      "    X_training.append(training_set[i][:-1])\n",
      "    y_training.append(training_set[i][3])\n",
      "\n",
      "# split test set into features and target value\n",
      "X_test = []\n",
      "y_test = []\n",
      "for j in range(len(test_set)):\n",
      "    X_test.append(test_set[j][:-1])\n",
      "    y_test.append(test_set[j][3])"
     ],
     "language": "python",
     "metadata": {},
     "outputs": [],
     "prompt_number": 139
    },
    {
     "cell_type": "code",
     "collapsed": false,
     "input": [
      "model_log = LogisticRegression()\n",
      "model_log.fit(X_training,y_training)\n",
      "\n",
      "y_predicted_log = model_log.predict(X_test)\n",
      "score_log = accuracy_score(y_test,y_predicted_log)\n",
      "print 'accuracy from logistic regression:', score_log"
     ],
     "language": "python",
     "metadata": {},
     "outputs": [
      {
       "output_type": "stream",
       "stream": "stdout",
       "text": [
        "accuracy from logistic regression: 0.815217391304\n"
       ]
      }
     ],
     "prompt_number": 140
    },
    {
     "cell_type": "code",
     "collapsed": false,
     "input": [
      "train_sizes, train_scores, test_scores = learning_curve(model_log,X_training,y_training,train_sizes=np.linspace(0.1,1.0,50))\n",
      "train_scores_mean = np.mean(train_scores, axis=1)\n",
      "train_scores_std = np.std(train_scores, axis=1)\n",
      "test_scores_mean = np.mean(test_scores, axis=1)\n",
      "test_scores_std = np.std(test_scores, axis=1)\n",
      "\n",
      "plt.plot(train_sizes, train_scores_mean, 'o-', color=\"r\", label=\"Training score\")\n",
      "plt.plot(train_sizes, test_scores_mean, 'o-', color=\"g\", label=\"Cross-validation score\")\n",
      "plt.legend(loc=\"best\")\n",
      "plt.ylabel('accuracy score')"
     ],
     "language": "python",
     "metadata": {},
     "outputs": [
      {
       "metadata": {},
       "output_type": "pyout",
       "prompt_number": 141,
       "text": [
        "<matplotlib.text.Text at 0x10bcc8610>"
       ]
      },
      {
       "metadata": {},
       "output_type": "display_data",
       "png": "[encoded data removed]",
       "text": [
        "<matplotlib.figure.Figure at 0x10b824810>"
       ]
      }
     ],
     "prompt_number": 141
    }
   ],
   "metadata": {}
  }
 ]
}