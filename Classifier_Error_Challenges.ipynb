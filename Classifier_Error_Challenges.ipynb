{
 "metadata": {
  "name": "",
  "signature": "sha256:0b15c115ff36561b9c83931f55f06b93fcd28dac69f8dbbb70bb4b1a88d587fd"
 },
 "nbformat": 3,
 "nbformat_minor": 0,
 "worksheets": [
  {
   "cells": [
    {
     "cell_type": "markdown",
     "metadata": {},
     "source": [
      "# Dara Elass"
     ]
    },
    {
     "cell_type": "markdown",
     "metadata": {},
     "source": [
      "## Module Import"
     ]
    },
    {
     "cell_type": "code",
     "collapsed": false,
     "input": [
      "import pandas as pd\n",
      "from sklearn.cross_validation import train_test_split\n",
      "from sklearn.neighbors import KNeighborsClassifier\n",
      "from sklearn.metrics import accuracy_score\n",
      "import sklearn.metrics as skm\n",
      "import numpy as np\n",
      "from sklearn.linear_model import LogisticRegression\n",
      "import matplotlib.pyplot as plt\n",
      "from sklearn.learning_curve import learning_curve\n",
      "%matplotlib inline\n",
      "from sklearn.naive_bayes import GaussianNB \n",
      "import math\n",
      "from sklearn.svm.libsvm import predict_proba"
     ],
     "language": "python",
     "metadata": {},
     "outputs": [],
     "prompt_number": 34
    },
    {
     "cell_type": "markdown",
     "metadata": {},
     "source": [
      "## Data Import"
     ]
    },
    {
     "cell_type": "code",
     "collapsed": false,
     "input": [
      "data_headers = ['class name']\n",
      "for i in range(16):\n",
      "    data_headers.append(str(i+2))\n",
      "votes_df = pd.read_csv('house-votes-84.data', names= data_headers)\n",
      "votes_df.head()"
     ],
     "language": "python",
     "metadata": {},
     "outputs": [
      {
       "html": [
        "<div style=\"max-height:1000px;max-width:1500px;overflow:auto;\">\n",
        "<table border=\"1\" class=\"dataframe\">\n",
        "  <thead>\n",
        "    <tr style=\"text-align: right;\">\n",
        "      <th></th>\n",
        "      <th>class name</th>\n",
        "      <th>2</th>\n",
        "      <th>3</th>\n",
        "      <th>4</th>\n",
        "      <th>5</th>\n",
        "      <th>6</th>\n",
        "      <th>7</th>\n",
        "      <th>8</th>\n",
        "      <th>9</th>\n",
        "      <th>10</th>\n",
        "      <th>11</th>\n",
        "      <th>12</th>\n",
        "      <th>13</th>\n",
        "      <th>14</th>\n",
        "      <th>15</th>\n",
        "      <th>16</th>\n",
        "      <th>17</th>\n",
        "    </tr>\n",
        "  </thead>\n",
        "  <tbody>\n",
        "    <tr>\n",
        "      <th>0</th>\n",
        "      <td> republican</td>\n",
        "      <td> n</td>\n",
        "      <td> y</td>\n",
        "      <td> n</td>\n",
        "      <td> y</td>\n",
        "      <td> y</td>\n",
        "      <td> y</td>\n",
        "      <td> n</td>\n",
        "      <td> n</td>\n",
        "      <td> n</td>\n",
        "      <td> y</td>\n",
        "      <td> ?</td>\n",
        "      <td> y</td>\n",
        "      <td> y</td>\n",
        "      <td> y</td>\n",
        "      <td> n</td>\n",
        "      <td> y</td>\n",
        "    </tr>\n",
        "    <tr>\n",
        "      <th>1</th>\n",
        "      <td> republican</td>\n",
        "      <td> n</td>\n",
        "      <td> y</td>\n",
        "      <td> n</td>\n",
        "      <td> y</td>\n",
        "      <td> y</td>\n",
        "      <td> y</td>\n",
        "      <td> n</td>\n",
        "      <td> n</td>\n",
        "      <td> n</td>\n",
        "      <td> n</td>\n",
        "      <td> n</td>\n",
        "      <td> y</td>\n",
        "      <td> y</td>\n",
        "      <td> y</td>\n",
        "      <td> n</td>\n",
        "      <td> ?</td>\n",
        "    </tr>\n",
        "    <tr>\n",
        "      <th>2</th>\n",
        "      <td>   democrat</td>\n",
        "      <td> ?</td>\n",
        "      <td> y</td>\n",
        "      <td> y</td>\n",
        "      <td> ?</td>\n",
        "      <td> y</td>\n",
        "      <td> y</td>\n",
        "      <td> n</td>\n",
        "      <td> n</td>\n",
        "      <td> n</td>\n",
        "      <td> n</td>\n",
        "      <td> y</td>\n",
        "      <td> n</td>\n",
        "      <td> y</td>\n",
        "      <td> y</td>\n",
        "      <td> n</td>\n",
        "      <td> n</td>\n",
        "    </tr>\n",
        "    <tr>\n",
        "      <th>3</th>\n",
        "      <td>   democrat</td>\n",
        "      <td> n</td>\n",
        "      <td> y</td>\n",
        "      <td> y</td>\n",
        "      <td> n</td>\n",
        "      <td> ?</td>\n",
        "      <td> y</td>\n",
        "      <td> n</td>\n",
        "      <td> n</td>\n",
        "      <td> n</td>\n",
        "      <td> n</td>\n",
        "      <td> y</td>\n",
        "      <td> n</td>\n",
        "      <td> y</td>\n",
        "      <td> n</td>\n",
        "      <td> n</td>\n",
        "      <td> y</td>\n",
        "    </tr>\n",
        "    <tr>\n",
        "      <th>4</th>\n",
        "      <td>   democrat</td>\n",
        "      <td> y</td>\n",
        "      <td> y</td>\n",
        "      <td> y</td>\n",
        "      <td> n</td>\n",
        "      <td> y</td>\n",
        "      <td> y</td>\n",
        "      <td> n</td>\n",
        "      <td> n</td>\n",
        "      <td> n</td>\n",
        "      <td> n</td>\n",
        "      <td> y</td>\n",
        "      <td> ?</td>\n",
        "      <td> y</td>\n",
        "      <td> y</td>\n",
        "      <td> y</td>\n",
        "      <td> y</td>\n",
        "    </tr>\n",
        "  </tbody>\n",
        "</table>\n",
        "</div>"
       ],
       "metadata": {},
       "output_type": "pyout",
       "prompt_number": 3,
       "text": [
        "   class name  2  3  4  5  6  7  8  9 10 11 12 13 14 15 16 17\n",
        "0  republican  n  y  n  y  y  y  n  n  n  y  ?  y  y  y  n  y\n",
        "1  republican  n  y  n  y  y  y  n  n  n  n  n  y  y  y  n  ?\n",
        "2    democrat  ?  y  y  ?  y  y  n  n  n  n  y  n  y  y  n  n\n",
        "3    democrat  n  y  y  n  ?  y  n  n  n  n  y  n  y  n  n  y\n",
        "4    democrat  y  y  y  n  y  y  n  n  n  n  y  ?  y  y  y  y"
       ]
      }
     ],
     "prompt_number": 3
    },
    {
     "cell_type": "markdown",
     "metadata": {},
     "source": [
      "## Challenge 1"
     ]
    },
    {
     "cell_type": "code",
     "collapsed": false,
     "input": [
      "votes_df = votes_df.replace('y',1)\n",
      "votes_df = votes_df.replace('n',0)\n",
      "votes_df = votes_df.replace('?',np.nan)\n",
      "votes_df = votes_df.replace('republican',0)\n",
      "votes_df = votes_df.replace('democrat',1)\n",
      "\n",
      "votes_df.head()"
     ],
     "language": "python",
     "metadata": {},
     "outputs": [
      {
       "html": [
        "<div style=\"max-height:1000px;max-width:1500px;overflow:auto;\">\n",
        "<table border=\"1\" class=\"dataframe\">\n",
        "  <thead>\n",
        "    <tr style=\"text-align: right;\">\n",
        "      <th></th>\n",
        "      <th>class name</th>\n",
        "      <th>2</th>\n",
        "      <th>3</th>\n",
        "      <th>4</th>\n",
        "      <th>5</th>\n",
        "      <th>6</th>\n",
        "      <th>7</th>\n",
        "      <th>8</th>\n",
        "      <th>9</th>\n",
        "      <th>10</th>\n",
        "      <th>11</th>\n",
        "      <th>12</th>\n",
        "      <th>13</th>\n",
        "      <th>14</th>\n",
        "      <th>15</th>\n",
        "      <th>16</th>\n",
        "      <th>17</th>\n",
        "    </tr>\n",
        "  </thead>\n",
        "  <tbody>\n",
        "    <tr>\n",
        "      <th>0</th>\n",
        "      <td> 0</td>\n",
        "      <td> 0.00000</td>\n",
        "      <td> 1</td>\n",
        "      <td> 0</td>\n",
        "      <td> 1.000000</td>\n",
        "      <td> 1.000000</td>\n",
        "      <td> 1</td>\n",
        "      <td> 0</td>\n",
        "      <td> 0</td>\n",
        "      <td> 0</td>\n",
        "      <td> 1</td>\n",
        "      <td> 0.362319</td>\n",
        "      <td> 1.000000</td>\n",
        "      <td> 1</td>\n",
        "      <td> 1</td>\n",
        "      <td> 0</td>\n",
        "      <td> 1.000000</td>\n",
        "    </tr>\n",
        "    <tr>\n",
        "      <th>1</th>\n",
        "      <td> 0</td>\n",
        "      <td> 0.00000</td>\n",
        "      <td> 1</td>\n",
        "      <td> 0</td>\n",
        "      <td> 1.000000</td>\n",
        "      <td> 1.000000</td>\n",
        "      <td> 1</td>\n",
        "      <td> 0</td>\n",
        "      <td> 0</td>\n",
        "      <td> 0</td>\n",
        "      <td> 0</td>\n",
        "      <td> 0.000000</td>\n",
        "      <td> 1.000000</td>\n",
        "      <td> 1</td>\n",
        "      <td> 1</td>\n",
        "      <td> 0</td>\n",
        "      <td> 0.812689</td>\n",
        "    </tr>\n",
        "    <tr>\n",
        "      <th>2</th>\n",
        "      <td> 1</td>\n",
        "      <td> 0.44208</td>\n",
        "      <td> 1</td>\n",
        "      <td> 1</td>\n",
        "      <td> 0.417453</td>\n",
        "      <td> 1.000000</td>\n",
        "      <td> 1</td>\n",
        "      <td> 0</td>\n",
        "      <td> 0</td>\n",
        "      <td> 0</td>\n",
        "      <td> 0</td>\n",
        "      <td> 1.000000</td>\n",
        "      <td> 0.000000</td>\n",
        "      <td> 1</td>\n",
        "      <td> 1</td>\n",
        "      <td> 0</td>\n",
        "      <td> 0.000000</td>\n",
        "    </tr>\n",
        "    <tr>\n",
        "      <th>3</th>\n",
        "      <td> 1</td>\n",
        "      <td> 0.00000</td>\n",
        "      <td> 1</td>\n",
        "      <td> 1</td>\n",
        "      <td> 0.000000</td>\n",
        "      <td> 0.504762</td>\n",
        "      <td> 1</td>\n",
        "      <td> 0</td>\n",
        "      <td> 0</td>\n",
        "      <td> 0</td>\n",
        "      <td> 0</td>\n",
        "      <td> 1.000000</td>\n",
        "      <td> 0.000000</td>\n",
        "      <td> 1</td>\n",
        "      <td> 0</td>\n",
        "      <td> 0</td>\n",
        "      <td> 1.000000</td>\n",
        "    </tr>\n",
        "    <tr>\n",
        "      <th>4</th>\n",
        "      <td> 1</td>\n",
        "      <td> 1.00000</td>\n",
        "      <td> 1</td>\n",
        "      <td> 1</td>\n",
        "      <td> 0.000000</td>\n",
        "      <td> 1.000000</td>\n",
        "      <td> 1</td>\n",
        "      <td> 0</td>\n",
        "      <td> 0</td>\n",
        "      <td> 0</td>\n",
        "      <td> 0</td>\n",
        "      <td> 1.000000</td>\n",
        "      <td> 0.423267</td>\n",
        "      <td> 1</td>\n",
        "      <td> 1</td>\n",
        "      <td> 1</td>\n",
        "      <td> 1.000000</td>\n",
        "    </tr>\n",
        "  </tbody>\n",
        "</table>\n",
        "</div>"
       ],
       "metadata": {},
       "output_type": "pyout",
       "prompt_number": 43,
       "text": [
        "   class name        2  3  4         5         6  7  8  9  10  11        12  \\\n",
        "0           0  0.00000  1  0  1.000000  1.000000  1  0  0   0   1  0.362319   \n",
        "1           0  0.00000  1  0  1.000000  1.000000  1  0  0   0   0  0.000000   \n",
        "2           1  0.44208  1  1  0.417453  1.000000  1  0  0   0   0  1.000000   \n",
        "3           1  0.00000  1  1  0.000000  0.504762  1  0  0   0   0  1.000000   \n",
        "4           1  1.00000  1  1  0.000000  1.000000  1  0  0   0   0  1.000000   \n",
        "\n",
        "         13  14  15  16        17  \n",
        "0  1.000000   1   1   0  1.000000  \n",
        "1  1.000000   1   1   0  0.812689  \n",
        "2  0.000000   1   1   0  0.000000  \n",
        "3  0.000000   1   0   0  1.000000  \n",
        "4  0.423267   1   1   1  1.000000  "
       ]
      },
      {
       "output_type": "stream",
       "stream": "stdout",
       "text": [
        "\n"
       ]
      }
     ],
     "prompt_number": 43
    },
    {
     "cell_type": "code",
     "collapsed": false,
     "input": [
      "# replace ? with mean of votes\n",
      "for i in range(16):\n",
      "    issue = str(i+2)\n",
      "    themean = votes_df[issue].mean()\n",
      "    votes_df[issue] = votes_df[issue].replace(np.nan,themean)\n",
      "\n",
      "\n",
      "Y = votes_df['class name']\n",
      "X = votes_df[['2','3','4','5','6','7','8','9','10','11','12','13','14','15','16','17']]\n",
      "print X"
     ],
     "language": "python",
     "metadata": {},
     "outputs": [
      {
       "output_type": "stream",
       "stream": "stdout",
       "text": [
        "           2         3         4         5         6         7         8  \\\n",
        "0    0.00000  1.000000  0.000000  1.000000  1.000000  1.000000  0.000000   \n",
        "1    0.00000  1.000000  0.000000  1.000000  1.000000  1.000000  0.000000   \n",
        "2    0.44208  1.000000  1.000000  0.417453  1.000000  1.000000  0.000000   \n",
        "3    0.00000  1.000000  1.000000  0.000000  0.504762  1.000000  0.000000   \n",
        "4    1.00000  1.000000  1.000000  0.000000  1.000000  1.000000  0.000000   \n",
        "5    0.00000  1.000000  1.000000  0.000000  1.000000  1.000000  0.000000   \n",
        "6    0.00000  1.000000  0.000000  1.000000  1.000000  1.000000  0.000000   \n",
        "7    0.00000  1.000000  0.000000  1.000000  1.000000  1.000000  0.000000   \n",
        "8    0.00000  1.000000  0.000000  1.000000  1.000000  1.000000  0.000000   \n",
        "9    1.00000  1.000000  1.000000  0.000000  0.000000  0.000000  1.000000   \n",
        "10   0.00000  1.000000  0.000000  1.000000  1.000000  0.000000  0.000000   \n",
        "11   0.00000  1.000000  0.000000  1.000000  1.000000  1.000000  0.000000   \n",
        "12   0.00000  1.000000  1.000000  0.000000  0.000000  0.000000  1.000000   \n",
        "13   1.00000  1.000000  1.000000  0.000000  0.000000  1.000000  1.000000   \n",
        "14   0.00000  1.000000  0.000000  1.000000  1.000000  1.000000  0.000000   \n",
        "15   0.00000  1.000000  0.000000  1.000000  1.000000  1.000000  0.000000   \n",
        "16   1.00000  0.000000  1.000000  0.000000  0.000000  1.000000  0.000000   \n",
        "17   1.00000  0.503876  1.000000  0.000000  0.000000  0.000000  1.000000   \n",
        "18   0.00000  1.000000  0.000000  1.000000  1.000000  1.000000  0.000000   \n",
        "19   1.00000  1.000000  1.000000  0.000000  0.000000  0.000000  1.000000   \n",
        "20   1.00000  1.000000  1.000000  0.000000  0.000000  0.641509  1.000000   \n",
        "21   1.00000  1.000000  1.000000  0.000000  0.000000  0.000000  1.000000   \n",
        "22   1.00000  0.503876  1.000000  0.000000  0.000000  0.000000  1.000000   \n",
        "23   1.00000  1.000000  1.000000  0.000000  0.000000  0.000000  1.000000   \n",
        "24   1.00000  0.000000  1.000000  0.000000  0.000000  0.000000  1.000000   \n",
        "25   1.00000  0.000000  1.000000  0.000000  0.000000  0.000000  1.000000   \n",
        "26   1.00000  0.000000  1.000000  0.000000  0.000000  0.000000  1.000000   \n",
        "27   1.00000  1.000000  1.000000  0.000000  0.000000  0.000000  1.000000   \n",
        "28   1.00000  0.000000  0.000000  1.000000  1.000000  0.000000  1.000000   \n",
        "29   1.00000  1.000000  1.000000  0.000000  0.000000  0.000000  1.000000   \n",
        "..       ...       ...       ...       ...       ...       ...       ...   \n",
        "405  0.00000  0.000000  0.000000  1.000000  1.000000  1.000000  0.000000   \n",
        "406  1.00000  0.000000  1.000000  0.000000  1.000000  1.000000  0.000000   \n",
        "407  0.00000  0.000000  0.000000  1.000000  1.000000  1.000000  0.000000   \n",
        "408  1.00000  0.000000  1.000000  0.000000  0.000000  1.000000  1.000000   \n",
        "409  0.00000  0.000000  0.000000  1.000000  1.000000  1.000000  0.000000   \n",
        "410  0.00000  0.000000  0.000000  1.000000  1.000000  1.000000  0.000000   \n",
        "411  1.00000  0.000000  1.000000  0.000000  0.000000  1.000000  1.000000   \n",
        "412  0.00000  0.000000  0.000000  1.000000  1.000000  1.000000  0.000000   \n",
        "413  1.00000  1.000000  1.000000  1.000000  1.000000  1.000000  1.000000   \n",
        "414  1.00000  1.000000  1.000000  0.000000  0.000000  0.000000  1.000000   \n",
        "415  0.00000  1.000000  1.000000  0.000000  0.000000  1.000000  1.000000   \n",
        "416  1.00000  1.000000  0.000000  1.000000  1.000000  1.000000  0.000000   \n",
        "417  1.00000  1.000000  1.000000  0.000000  0.000000  0.000000  1.000000   \n",
        "418  1.00000  1.000000  1.000000  0.000000  0.000000  0.000000  1.000000   \n",
        "419  1.00000  1.000000  1.000000  0.000000  0.000000  0.000000  1.000000   \n",
        "420  1.00000  1.000000  1.000000  1.000000  1.000000  1.000000  1.000000   \n",
        "421  0.00000  1.000000  1.000000  0.000000  1.000000  1.000000  1.000000   \n",
        "422  0.00000  0.000000  1.000000  0.000000  0.000000  1.000000  1.000000   \n",
        "423  0.00000  1.000000  1.000000  0.000000  0.000000  1.000000  1.000000   \n",
        "424  0.00000  1.000000  1.000000  0.000000  0.000000  0.641509  1.000000   \n",
        "425  0.00000  0.000000  1.000000  0.000000  0.000000  0.000000  1.000000   \n",
        "426  1.00000  0.000000  1.000000  0.000000  0.000000  0.000000  1.000000   \n",
        "427  0.00000  0.000000  0.000000  1.000000  1.000000  1.000000  1.000000   \n",
        "428  0.44208  0.503876  0.596698  0.000000  0.000000  0.000000  1.000000   \n",
        "429  1.00000  0.000000  1.000000  0.000000  0.504762  0.000000  1.000000   \n",
        "430  0.00000  0.000000  1.000000  1.000000  1.000000  1.000000  0.000000   \n",
        "431  0.00000  0.000000  1.000000  0.000000  0.000000  0.000000  1.000000   \n",
        "432  0.00000  0.503876  0.000000  1.000000  1.000000  1.000000  0.000000   \n",
        "433  0.00000  0.000000  0.000000  1.000000  1.000000  1.000000  0.567696   \n",
        "434  0.00000  1.000000  0.000000  1.000000  1.000000  1.000000  0.000000   \n",
        "\n",
        "           9        10        11        12        13        14        15  \\\n",
        "0    0.00000  0.000000  1.000000  0.362319  1.000000  1.000000  1.000000   \n",
        "1    0.00000  0.000000  0.000000  0.000000  1.000000  1.000000  1.000000   \n",
        "2    0.00000  0.000000  0.000000  1.000000  0.000000  1.000000  1.000000   \n",
        "3    0.00000  0.000000  0.000000  1.000000  0.000000  1.000000  0.000000   \n",
        "4    0.00000  0.000000  0.000000  1.000000  0.423267  1.000000  1.000000   \n",
        "5    0.00000  0.000000  0.000000  0.000000  0.000000  1.000000  1.000000   \n",
        "6    0.00000  0.000000  0.000000  0.000000  0.000000  0.509756  1.000000   \n",
        "7    0.00000  0.000000  0.000000  0.000000  0.000000  1.000000  1.000000   \n",
        "8    0.00000  0.000000  0.000000  0.000000  1.000000  1.000000  1.000000   \n",
        "9    1.00000  1.000000  0.000000  0.000000  0.000000  0.000000  0.000000   \n",
        "10   0.00000  0.000000  0.000000  0.362319  0.423267  1.000000  1.000000   \n",
        "11   0.00000  0.000000  0.000000  1.000000  0.423267  1.000000  1.000000   \n",
        "12   1.00000  1.000000  0.000000  0.000000  0.000000  1.000000  0.000000   \n",
        "13   1.00000  0.501211  1.000000  1.000000  0.423267  0.000000  0.000000   \n",
        "14   0.00000  0.000000  0.000000  0.000000  1.000000  0.509756  0.593301   \n",
        "15   0.00000  0.000000  1.000000  0.000000  1.000000  1.000000  0.593301   \n",
        "16   1.00000  0.501211  1.000000  1.000000  1.000000  0.509756  0.000000   \n",
        "17   1.00000  1.000000  0.000000  0.000000  0.000000  1.000000  0.000000   \n",
        "18   0.00000  0.000000  0.000000  0.000000  0.423267  1.000000  1.000000   \n",
        "19   1.00000  1.000000  0.000000  1.000000  0.000000  0.000000  0.000000   \n",
        "20   1.00000  0.000000  0.000000  1.000000  0.000000  0.000000  0.000000   \n",
        "21   1.00000  1.000000  0.000000  0.000000  0.000000  0.509756  0.593301   \n",
        "22   1.00000  1.000000  0.000000  0.000000  0.423267  0.000000  0.000000   \n",
        "23   1.00000  1.000000  0.000000  0.000000  0.000000  0.000000  0.000000   \n",
        "24   1.00000  1.000000  0.000000  0.000000  0.000000  0.000000  0.000000   \n",
        "25   1.00000  1.000000  1.000000  0.000000  0.000000  0.000000  0.000000   \n",
        "26   1.00000  1.000000  0.000000  1.000000  0.000000  0.000000  0.000000   \n",
        "27   1.00000  1.000000  0.000000  1.000000  0.000000  0.000000  0.000000   \n",
        "28   1.00000  1.000000  0.000000  0.000000  1.000000  1.000000  1.000000   \n",
        "29   1.00000  1.000000  0.000000  1.000000  0.000000  0.000000  0.000000   \n",
        "..       ...       ...       ...       ...       ...       ...       ...   \n",
        "405  0.00000  0.000000  0.000000  0.000000  1.000000  1.000000  1.000000   \n",
        "406  0.00000  1.000000  1.000000  0.000000  0.000000  1.000000  1.000000   \n",
        "407  0.00000  0.000000  0.000000  1.000000  1.000000  1.000000  1.000000   \n",
        "408  1.00000  1.000000  0.000000  0.000000  1.000000  0.509756  1.000000   \n",
        "409  0.00000  0.000000  0.000000  0.000000  1.000000  1.000000  1.000000   \n",
        "410  0.00000  0.000000  0.000000  1.000000  1.000000  1.000000  1.000000   \n",
        "411  1.00000  1.000000  1.000000  1.000000  0.000000  0.000000  0.000000   \n",
        "412  0.00000  0.000000  1.000000  0.000000  1.000000  1.000000  1.000000   \n",
        "413  1.00000  0.000000  1.000000  0.362319  0.423267  0.509756  1.000000   \n",
        "414  1.00000  1.000000  0.000000  0.000000  0.000000  0.000000  0.000000   \n",
        "415  1.00000  0.501211  1.000000  0.000000  0.000000  0.000000  0.000000   \n",
        "416  0.00000  0.000000  1.000000  0.000000  0.000000  1.000000  1.000000   \n",
        "417  1.00000  1.000000  1.000000  1.000000  0.000000  1.000000  0.000000   \n",
        "418  1.00000  0.000000  1.000000  0.000000  0.000000  0.000000  0.000000   \n",
        "419  1.00000  1.000000  0.000000  0.000000  0.000000  0.000000  0.000000   \n",
        "420  1.00000  0.000000  1.000000  0.000000  0.000000  1.000000  1.000000   \n",
        "421  1.00000  0.000000  0.000000  1.000000  0.000000  1.000000  0.000000   \n",
        "422  1.00000  1.000000  0.000000  1.000000  0.000000  0.000000  0.000000   \n",
        "423  1.00000  1.000000  0.000000  1.000000  0.000000  0.000000  1.000000   \n",
        "424  1.00000  1.000000  1.000000  1.000000  0.000000  0.509756  1.000000   \n",
        "425  1.00000  0.000000  1.000000  1.000000  0.000000  0.000000  0.000000   \n",
        "426  1.00000  1.000000  1.000000  0.000000  0.000000  0.000000  0.000000   \n",
        "427  1.00000  0.000000  1.000000  0.000000  1.000000  1.000000  1.000000   \n",
        "428  1.00000  1.000000  1.000000  0.000000  0.000000  1.000000  0.000000   \n",
        "429  1.00000  1.000000  1.000000  0.000000  1.000000  0.000000  0.593301   \n",
        "430  0.00000  1.000000  1.000000  0.000000  1.000000  1.000000  1.000000   \n",
        "431  1.00000  1.000000  1.000000  0.000000  0.000000  0.000000  0.000000   \n",
        "432  0.00000  0.000000  0.000000  1.000000  1.000000  1.000000  1.000000   \n",
        "433  0.57619  0.501211  0.504673  0.000000  1.000000  1.000000  1.000000   \n",
        "434  0.00000  0.000000  1.000000  0.000000  1.000000  1.000000  1.000000   \n",
        "\n",
        "           16        17  \n",
        "0    0.000000  1.000000  \n",
        "1    0.000000  0.812689  \n",
        "2    0.000000  0.000000  \n",
        "3    0.000000  1.000000  \n",
        "4    1.000000  1.000000  \n",
        "5    1.000000  1.000000  \n",
        "6    1.000000  1.000000  \n",
        "7    0.427518  1.000000  \n",
        "8    0.000000  1.000000  \n",
        "9    0.427518  0.812689  \n",
        "10   0.000000  0.000000  \n",
        "11   0.427518  0.812689  \n",
        "12   0.427518  0.812689  \n",
        "13   1.000000  0.812689  \n",
        "14   0.000000  0.812689  \n",
        "15   0.000000  0.812689  \n",
        "16   0.000000  1.000000  \n",
        "17   1.000000  1.000000  \n",
        "18   0.000000  0.000000  \n",
        "19   1.000000  1.000000  \n",
        "20   1.000000  1.000000  \n",
        "21   1.000000  1.000000  \n",
        "22   1.000000  1.000000  \n",
        "23   1.000000  1.000000  \n",
        "24   1.000000  0.812689  \n",
        "25   1.000000  1.000000  \n",
        "26   1.000000  1.000000  \n",
        "27   1.000000  1.000000  \n",
        "28   0.000000  1.000000  \n",
        "29   1.000000  1.000000  \n",
        "..        ...       ...  \n",
        "405  0.000000  1.000000  \n",
        "406  0.000000  1.000000  \n",
        "407  0.000000  0.000000  \n",
        "408  1.000000  1.000000  \n",
        "409  0.000000  0.000000  \n",
        "410  0.000000  1.000000  \n",
        "411  0.000000  1.000000  \n",
        "412  0.000000  1.000000  \n",
        "413  0.000000  1.000000  \n",
        "414  0.000000  1.000000  \n",
        "415  0.000000  1.000000  \n",
        "416  0.000000  1.000000  \n",
        "417  0.000000  1.000000  \n",
        "418  0.000000  1.000000  \n",
        "419  0.000000  1.000000  \n",
        "420  0.000000  1.000000  \n",
        "421  1.000000  1.000000  \n",
        "422  1.000000  1.000000  \n",
        "423  1.000000  1.000000  \n",
        "424  1.000000  1.000000  \n",
        "425  1.000000  0.812689  \n",
        "426  1.000000  1.000000  \n",
        "427  0.000000  1.000000  \n",
        "428  1.000000  1.000000  \n",
        "429  1.000000  1.000000  \n",
        "430  0.000000  1.000000  \n",
        "431  0.000000  1.000000  \n",
        "432  0.000000  1.000000  \n",
        "433  0.000000  1.000000  \n",
        "434  0.427518  0.000000  \n",
        "\n",
        "[435 rows x 16 columns]\n"
       ]
      }
     ],
     "prompt_number": 146
    },
    {
     "cell_type": "code",
     "collapsed": false,
     "input": [
      "training_set, test_set = train_test_split(votes_df, test_size=.30, random_state=4444)\n",
      "print training_set\n",
      "print len(training_set)\n",
      "print test_set\n",
      "print len(test_set)"
     ],
     "language": "python",
     "metadata": {},
     "outputs": [
      {
       "output_type": "stream",
       "stream": "stdout",
       "text": [
        "[[ 1.          0.          1.         ...,  0.          1.          1.        ]\n",
        " [ 0.          0.          1.         ...,  1.          0.          1.        ]\n",
        " [ 1.          1.          0.         ...,  0.          1.          1.        ]\n",
        " ..., \n",
        " [ 1.          1.          0.         ...,  1.          0.          1.        ]\n",
        " [ 0.          1.          1.         ...,  1.          0.          1.        ]\n",
        " [ 1.          1.          1.         ...,  0.          1.          0.81268882]]\n",
        "304\n",
        "[[ 1.          0.          1.         ...,  1.          0.          1.        ]\n",
        " [ 0.          0.          0.         ...,  1.          0.          1.        ]\n",
        " [ 1.          0.          0.         ...,  1.          0.          1.        ]\n",
        " ..., \n",
        " [ 1.          1.          1.         ...,  0.          0.          0.81268882]\n",
        " [ 1.          1.          0.         ...,  1.          0.          0.81268882]\n",
        " [ 0.          0.          0.         ...,  1.          0.          0.        ]]\n",
        "131\n"
       ]
      }
     ],
     "prompt_number": 45
    },
    {
     "cell_type": "markdown",
     "metadata": {},
     "source": [
      "#### KNN: Accuracy, Precision, Recall, F1"
     ]
    },
    {
     "cell_type": "code",
     "collapsed": false,
     "input": [
      "# split training set into features and target value\n",
      "X_training = []\n",
      "y_training = []\n",
      "for i in range(len(training_set)):\n",
      "    X_training.append(training_set[i][1:])\n",
      "    y_training.append(training_set[i][0])\n",
      "\n",
      "# split test set into features and target value\n",
      "X_test = []\n",
      "y_test = []\n",
      "for j in range(len(test_set)):\n",
      "    X_test.append(test_set[j][1:])\n",
      "    y_test.append(test_set[j][0])\n",
      "\n",
      "the_scores = []\n",
      "#fit and test the model\n",
      "for k in range(20):\n",
      "    # fit the model\n",
      "    neigh = KNeighborsClassifier(n_neighbors=k+1)\n",
      "    neigh.fit(X_training, y_training)    \n",
      "    # test the model\n",
      "    y_predicted = neigh.predict(X_test)\n",
      "    score = accuracy_score(y_test, y_predicted)\n",
      "    the_scores.append(score)\n",
      "\n",
      "maxv = max(the_scores)\n",
      "k_vals = []\n",
      "for m in range(len(the_scores)):\n",
      "    if the_scores[m] == maxv:\n",
      "        k_vals.append(m+1)\n",
      "        \n",
      "print 'the best k values are', k_vals\n",
      "print 'the max score for these values are', maxv"
     ],
     "language": "python",
     "metadata": {},
     "outputs": [
      {
       "output_type": "stream",
       "stream": "stdout",
       "text": [
        "the best k values are [4, 9]\n",
        "the max score for these values are 0.931297709924\n"
       ]
      }
     ],
     "prompt_number": 58
    },
    {
     "cell_type": "code",
     "collapsed": false,
     "input": [
      "# using k = 6\n",
      "new_neigh = KNeighborsClassifier(n_neighbors=6)\n",
      "new_neigh.fit(X_training,y_training)\n",
      "y_predicted = new_neigh.predict(X_test)\n",
      "score = accuracy_score(y_test,y_predicted)\n",
      "print 'accuracy score:',score\n",
      "print 'precision score:',skm.precision_score(y_test,y_predicted)\n",
      "print 'recall score:',skm.recall_score(y_test,y_predicted)\n",
      "print 'F1 score:',skm.f1_score(y_test,y_predicted)"
     ],
     "language": "python",
     "metadata": {},
     "outputs": [
      {
       "output_type": "stream",
       "stream": "stdout",
       "text": [
        "accuracy score: 0.916030534351\n",
        "precision score: 0.934210526316\n",
        "recall score: 0.922077922078\n",
        "F1 score: 0.928104575163\n"
       ]
      }
     ],
     "prompt_number": 59
    },
    {
     "cell_type": "markdown",
     "metadata": {},
     "source": [
      "#### Logistic Regression: Accuracy, Precision, Recall, F1"
     ]
    },
    {
     "cell_type": "code",
     "collapsed": false,
     "input": [
      "model_log = LogisticRegression()\n",
      "model_log.fit(X_training,y_training)\n",
      "\n",
      "y_predicted_log = model_log.predict(X_test)\n",
      "score_log = accuracy_score(y_test,y_predicted_log)\n",
      "print 'accuracy:', score_log\n",
      "print 'precision score:',skm.precision_score(y_test,y_predicted_log)\n",
      "print 'recall score:',skm.recall_score(y_test,y_predicted_log)\n",
      "print 'F1 score:',skm.f1_score(y_test,y_predicted_log)"
     ],
     "language": "python",
     "metadata": {},
     "outputs": [
      {
       "output_type": "stream",
       "stream": "stdout",
       "text": [
        "accuracy: 0.93893129771\n",
        "precision score: 0.925925925926\n",
        "recall score: 0.974025974026\n",
        "F1 score: 0.949367088608\n"
       ]
      }
     ],
     "prompt_number": 60
    },
    {
     "cell_type": "markdown",
     "metadata": {},
     "source": [
      "#### Simple Predictors: Accuracy, Precision, Recall, F1"
     ]
    },
    {
     "cell_type": "code",
     "collapsed": false,
     "input": [
      "def simple_predictor_dem(X):\n",
      "    number = len(X)\n",
      "    result = [1 for i in range(number)]\n",
      "    return result\n",
      "\n",
      "def simple_predictor_repub(X):\n",
      "    number = len(X)\n",
      "    result = [0 for i in range(number)]\n",
      "    return result\n",
      "\n",
      "y2 = simple_predictor_dem(X_test)\n",
      "\n",
      "y_predicted2 = model_log.predict(X_test)\n",
      "dem_predictor_accuracy = accuracy_score(y2,y_predicted2)\n",
      "print 'accuracy for dems from logistic regression:', dem_predictor_accuracy\n",
      "print 'precision score:',skm.precision_score(y2,y_predicted2)\n",
      "print 'recall score:',skm.recall_score(y2,y_predicted2)\n",
      "print 'F1 score:',skm.f1_score(y2,y_predicted2)\n",
      "\n",
      "y3 = simple_predictor_repub(X_test)\n",
      "\n",
      "y_predicted3 = model_log.predict(X_test)\n",
      "repub_predictor_accuracy = accuracy_score(y3,y_predicted3)\n",
      "print 'accuracy for repubs from logistic regression:', repub_predictor_accuracy\n",
      "print 'precision score:',skm.precision_score(y3,y_predicted3)\n",
      "print 'recall score:',skm.recall_score(y3,y_predicted3)\n",
      "print 'F1 score:',skm.f1_score(y3,y_predicted3)"
     ],
     "language": "python",
     "metadata": {},
     "outputs": [
      {
       "output_type": "stream",
       "stream": "stdout",
       "text": [
        "accuracy for dems from logistic regression: 0.618320610687\n",
        "precision score: 1.0\n",
        "recall score: 0.618320610687\n",
        "F1 score: 0.764150943396\n",
        "accuracy for repubs from logistic regression: 0.381679389313\n",
        "precision score: 0\n",
        "recall score: 0\n",
        "F1 score: 0\n"
       ]
      }
     ],
     "prompt_number": 108
    },
    {
     "cell_type": "markdown",
     "metadata": {},
     "source": [
      "#### Gaussian Naive Bayes: Accuracy, Precision, Recall, F1"
     ]
    },
    {
     "cell_type": "code",
     "collapsed": false,
     "input": [
      "# Gaussian Naive Bayes\n",
      "from sklearn.naive_bayes import GaussianNB\n",
      "\n",
      "gauss_model = GaussianNB()\n",
      "gauss_model.fit(X_training,y_training)\n",
      "y_predicted_gauss = gauss_model.predict(X_test)\n",
      "gauss_accuracy = accuracy_score(y_test,y_predicted_gauss)\n",
      "\n",
      "print 'gaussian accuracy score is', gauss_accuracy\n",
      "print 'precision score:',skm.precision_score(y_test,y_predicted_gauss)\n",
      "print 'recall score:',skm.recall_score(y_test,y_predicted_gauss)\n",
      "print 'F1 score:',skm.f1_score(y_test,y_predicted_gauss)"
     ],
     "language": "python",
     "metadata": {},
     "outputs": [
      {
       "output_type": "stream",
       "stream": "stdout",
       "text": [
        "gaussian accuracy score is 0.93893129771\n",
        "precision score: 0.915662650602\n",
        "recall score: 0.987012987013\n",
        "F1 score: 0.95\n"
       ]
      }
     ],
     "prompt_number": 102
    },
    {
     "cell_type": "markdown",
     "metadata": {},
     "source": [
      "#### SVM: Accuracy, Precision, Recall, F1"
     ]
    },
    {
     "cell_type": "code",
     "collapsed": false,
     "input": [
      "# SVM (Support Vector Machine) Classifier\n",
      "from sklearn.svm import SVC\n",
      "\n",
      "SVC_model = SVC()\n",
      "SVC_model.fit(X_training,y_training)\n",
      "y_predicted_SVC = SVC_model.predict(X_test)\n",
      "SVC_accuracy = accuracy_score(y_test,y_predicted_SVC)\n",
      "\n",
      "print 'SVC accuracy score is', SVC_accuracy\n",
      "print 'precision score:',skm.precision_score(y_test,y_predicted_SVC)\n",
      "print 'recall score:',skm.recall_score(y_test,y_predicted_SVC)\n",
      "print 'F1 score:',skm.f1_score(y_test,y_predicted_SVC)"
     ],
     "language": "python",
     "metadata": {},
     "outputs": [
      {
       "output_type": "stream",
       "stream": "stdout",
       "text": [
        " SVC accuracy score is 0.954198473282\n",
        "precision score: 0.949367088608\n",
        "recall score: 0.974025974026\n",
        "F1 score: 0.961538461538\n"
       ]
      }
     ],
     "prompt_number": 105
    },
    {
     "cell_type": "markdown",
     "metadata": {},
     "source": [
      "#### Decision Tree: Accuracy, Precision, Recall, F1"
     ]
    },
    {
     "cell_type": "code",
     "collapsed": false,
     "input": [
      "# Decision Tree\n",
      "from sklearn.tree import DecisionTreeClassifier\n",
      "\n",
      "decision_model = DecisionTreeClassifier()\n",
      "decision_model.fit(X_training,y_training)\n",
      "y_predicted_decision = decision_model.predict(X_test)\n",
      "decision_accuracy = accuracy_score(y_test,y_predicted_decision)\n",
      "\n",
      "print 'Decision Tree Classifier accuracy score is', decision_accuracy\n",
      "print 'precision score:',skm.precision_score(y_test,y_predicted_decision)\n",
      "print 'recall score:',skm.recall_score(y_test,y_predicted_decision)\n",
      "print 'F1 score:',skm.f1_score(y_test,y_predicted_decision)"
     ],
     "language": "python",
     "metadata": {},
     "outputs": [
      {
       "output_type": "stream",
       "stream": "stdout",
       "text": [
        "Decision Tree Classifier accuracy score is 0.946564885496\n",
        "precision score: 0.9375\n",
        "recall score: 0.974025974026\n",
        "F1 score: 0.955414012739\n"
       ]
      }
     ],
     "prompt_number": 106
    },
    {
     "cell_type": "markdown",
     "metadata": {},
     "source": [
      "#### Random Forest: Accuracy, Precision, Recall, F1"
     ]
    },
    {
     "cell_type": "code",
     "collapsed": false,
     "input": [
      "# Random Forest\n",
      "from sklearn.ensemble import RandomForestClassifier\n",
      "\n",
      "random_forest_model = RandomForestClassifier()\n",
      "random_forest_model.fit(X_training,y_training)\n",
      "y_predicted_random_forest = random_forest_model.predict(X_test)\n",
      "random_forest_accuracy = accuracy_score(y_test,y_predicted_random_forest)\n",
      "\n",
      "print 'Random Forest Classifier accuracy score is', random_forest_accuracy\n",
      "print 'precision score:',skm.precision_score(y_test,y_predicted_random_forest)\n",
      "print 'recall score:',skm.recall_score(y_test,y_predicted_random_forest)\n",
      "print 'F1 score:',skm.f1_score(y_test,y_predicted_random_forest)"
     ],
     "language": "python",
     "metadata": {},
     "outputs": [
      {
       "output_type": "stream",
       "stream": "stdout",
       "text": [
        "Random Forest Classifier accuracy score is 0.946564885496\n",
        "precision score: 0.948717948718\n",
        "recall score: 0.961038961039\n",
        "F1 score: 0.954838709677\n"
       ]
      }
     ],
     "prompt_number": 107
    },
    {
     "cell_type": "markdown",
     "metadata": {},
     "source": [
      "## Challenge 2"
     ]
    },
    {
     "cell_type": "markdown",
     "metadata": {},
     "source": [
      "#### KNN: ROC curve"
     ]
    },
    {
     "cell_type": "code",
     "collapsed": false,
     "input": [
      "y_score_KNN = np.asarray(new_neigh.fit(X_training, y_training).predict_proba(X_test))\n",
      "y_score_KNN = np.transpose(y_score_KNN)[1]\n",
      "\n",
      "fpr, tpr, threshold = skm.roc_curve(y_test,y_score_KNN)\n",
      "\n",
      "plt.plot(fpr,tpr)\n",
      "plt.xlabel('False Positive Rate')\n",
      "plt.ylabel('True Positive Rate')\n",
      "plt.xlim([-0.1, 1])\n",
      "plt.ylim([-0.1,1.1])\n",
      "plt.plot([0, 1], [0, 1], 'k--')\n",
      "\n",
      "print 'ROC AUC score is', skm.roc_auc_score(y_test,y_score_KNN)"
     ],
     "language": "python",
     "metadata": {},
     "outputs": [
      {
       "output_type": "stream",
       "stream": "stdout",
       "text": [
        "ROC AUC score is 0.948412698413\n"
       ]
      },
      {
       "metadata": {},
       "output_type": "display_data",
       "png": "[encoded data removed]",
       "text": [
        "<matplotlib.figure.Figure at 0x10a791d90>"
       ]
      }
     ],
     "prompt_number": 100
    },
    {
     "cell_type": "markdown",
     "metadata": {},
     "source": [
      "#### Logistic Regression: ROC curve"
     ]
    },
    {
     "cell_type": "code",
     "collapsed": false,
     "input": [
      "y_score_logistic = model_log.fit(X_training, y_training).decision_function(X_test)\n",
      "fpr, tpr, threshold = skm.roc_curve(y_test,y_score_logistic)\n",
      "\n",
      "plt.plot(fpr,tpr)\n",
      "plt.xlabel('False Positive Rate')\n",
      "plt.ylabel('True Positive Rate')\n",
      "plt.xlim([-0.1, 1])\n",
      "plt.ylim([-0.1,1.1])\n",
      "plt.plot([0, 1], [0, 1], 'k--')\n",
      "\n",
      "print 'ROC AUC score is', skm.roc_auc_score(y_test,y_score_logistic)"
     ],
     "language": "python",
     "metadata": {},
     "outputs": [
      {
       "output_type": "stream",
       "stream": "stdout",
       "text": [
        "ROC AUC score is 0.987734487734\n"
       ]
      },
      {
       "metadata": {},
       "output_type": "display_data",
       "png": "[encoded data removed]",
       "text": [
        "<matplotlib.figure.Figure at 0x10b1ac310>"
       ]
      }
     ],
     "prompt_number": 101
    },
    {
     "cell_type": "markdown",
     "metadata": {},
     "source": [
      "#### Gaussian Naive Bayes: ROC curve"
     ]
    },
    {
     "cell_type": "code",
     "collapsed": false,
     "input": [
      "y_score_gaus = np.asarray(gauss_model.fit(X_training, y_training).predict_proba(X_test))\n",
      "y_score_gaus = np.transpose(y_score_gaus)[1]\n",
      "\n",
      "fpr, tpr, threshold = skm.roc_curve(y_test,y_score_gaus)\n",
      "\n",
      "plt.plot(fpr,tpr)\n",
      "plt.xlabel('False Positive Rate')\n",
      "plt.ylabel('True Positive Rate')\n",
      "plt.xlim([-0.1, 1])\n",
      "plt.ylim([-0.1,1.1])\n",
      "plt.plot([0, 1], [0, 1], 'k--')\n",
      "\n",
      "print 'ROC AUC score is', skm.roc_auc_score(y_test,y_score_gaus)"
     ],
     "language": "python",
     "metadata": {},
     "outputs": [
      {
       "output_type": "stream",
       "stream": "stdout",
       "text": [
        "ROC AUC score is 0.951058201058\n"
       ]
      },
      {
       "metadata": {},
       "output_type": "display_data",
       "png": "[encoded data removed]",
       "text": [
        "<matplotlib.figure.Figure at 0x10b201450>"
       ]
      }
     ],
     "prompt_number": 110
    },
    {
     "cell_type": "markdown",
     "metadata": {},
     "source": [
      "#### SVM: ROC curve"
     ]
    },
    {
     "cell_type": "code",
     "collapsed": false,
     "input": [
      "y_score_SVC = np.asarray(SVC_model.fit(X_training, y_training).decision_function(X_test))\n",
      "\n",
      "fpr, tpr, threshold = skm.roc_curve(y_test,y_score_SVC)\n",
      "\n",
      "plt.plot(fpr,tpr)\n",
      "plt.xlabel('False Positive Rate')\n",
      "plt.ylabel('True Positive Rate')\n",
      "plt.xlim([-0.1, 1])\n",
      "plt.ylim([-0.1,1.1])\n",
      "plt.plot([0, 1], [0, 1], 'k--')\n",
      "\n",
      "print 'ROC AUC score is', skm.roc_auc_score(y_test,y_score_SVC)"
     ],
     "language": "python",
     "metadata": {},
     "outputs": [
      {
       "output_type": "stream",
       "stream": "stdout",
       "text": [
        "ROC AUC score is 0.994949494949\n"
       ]
      },
      {
       "metadata": {},
       "output_type": "display_data",
       "png": "[encoded data removed]",
       "text": [
        "<matplotlib.figure.Figure at 0x10b19dc90>"
       ]
      }
     ],
     "prompt_number": 113
    },
    {
     "cell_type": "markdown",
     "metadata": {},
     "source": [
      "#### Decision Tree: ROC Curve"
     ]
    },
    {
     "cell_type": "code",
     "collapsed": false,
     "input": [
      "y_score_DT = np.asarray(decision_model.fit(X_training, y_training).predict_proba(X_test))\n",
      "y_score_DT = np.transpose(y_score_DT)[1]\n",
      "\n",
      "fpr, tpr, threshold = skm.roc_curve(y_test,y_score_DT)\n",
      "\n",
      "plt.plot(fpr,tpr)\n",
      "plt.xlabel('False Positive Rate')\n",
      "plt.ylabel('True Positive Rate')\n",
      "plt.xlim([-0.1, 1])\n",
      "plt.ylim([-0.1,1.1])\n",
      "plt.plot([0, 1], [0, 1], 'k--')\n",
      "\n",
      "print 'ROC AUC score is', skm.roc_auc_score(y_test,y_score_DT)"
     ],
     "language": "python",
     "metadata": {},
     "outputs": [
      {
       "output_type": "stream",
       "stream": "stdout",
       "text": [
        "ROC AUC score is 0.940716690717\n"
       ]
      },
      {
       "metadata": {},
       "output_type": "display_data",
       "png": "[encoded data removed]",
       "text": [
        "<matplotlib.figure.Figure at 0x10a489f10>"
       ]
      }
     ],
     "prompt_number": 121
    },
    {
     "cell_type": "markdown",
     "metadata": {},
     "source": [
      "#### Random Forest: ROC curve"
     ]
    },
    {
     "cell_type": "code",
     "collapsed": false,
     "input": [
      "y_score_RF = np.asarray(random_forest_model.fit(X_training, y_training).predict_proba(X_test))\n",
      "y_score_RF = np.transpose(y_score_RF)[1]\n",
      "\n",
      "fpr, tpr, threshold = skm.roc_curve(y_test,y_score_RF)\n",
      "\n",
      "plt.plot(fpr,tpr)\n",
      "plt.xlabel('False Positive Rate')\n",
      "plt.ylabel('True Positive Rate')\n",
      "plt.xlim([-0.5, 1])\n",
      "plt.ylim([-0.1,1.1])\n",
      "plt.plot([0, 1], [0, 1], 'k--')\n",
      "\n",
      "print 'ROC AUC score is', skm.roc_auc_score(y_test,y_score_RF)"
     ],
     "language": "python",
     "metadata": {},
     "outputs": [
      {
       "output_type": "stream",
       "stream": "stdout",
       "text": [
        "ROC AUC score is 0.989658489658\n"
       ]
      },
      {
       "metadata": {},
       "output_type": "display_data",
       "png": "[encoded data removed]",
       "text": [
        "<matplotlib.figure.Figure at 0x10b2119d0>"
       ]
      }
     ],
     "prompt_number": 120
    },
    {
     "cell_type": "markdown",
     "metadata": {},
     "source": [
      "## Challenge 3"
     ]
    },
    {
     "cell_type": "code",
     "collapsed": false,
     "input": [
      "from sklearn.cross_validation import cross_val_score \n",
      "\n",
      "models = [KNeighborsClassifier(),LogisticRegression(),GaussianNB(),SVC(),DecisionTreeClassifier(),RandomForestClassifier()]\n",
      "model_name = ['KNN','Logistic Regression','GaussianNB','SVC','Decision Tree','Random Forest']\n",
      "\n",
      "for i, model in enumerate(model_name):\n",
      "    print 'accuracy score for '+model+' is: '+ str(np.mean(cross_val_score(models[i], X, Y, scoring='accuracy')))\n",
      "    print 'precision score for '+model+' is: '+ str(np.mean(cross_val_score(models[i], X, Y, scoring='precision')))\n",
      "    print 'recall score for '+model+' is: '+ str(np.mean(cross_val_score(models[i], X, Y, scoring='recall')))\n",
      "    print 'F1 score for '+model+' is: '+ str(np.mean(cross_val_score(models[i], X, Y, scoring='f1')))\n",
      "    print '\\n'"
     ],
     "language": "python",
     "metadata": {},
     "outputs": [
      {
       "output_type": "stream",
       "stream": "stdout",
       "text": [
        "accuracy score for KNN is: 0.933333333333\n",
        "precision score for KNN is: 0.961371867646\n",
        "recall score for KNN is: 0.928838951311\n",
        "F1 score for KNN is: 0.944804199632"
       ]
      },
      {
       "output_type": "stream",
       "stream": "stdout",
       "text": [
        "\n",
        "\n",
        "\n",
        "accuracy score for Logistic Regression is: 0.96091954023\n",
        "precision score for Logistic Regression is: 0.970163331033\n",
        "recall score for Logistic Regression is: 0.966292134831\n",
        "F1 score for Logistic Regression is: 0.967864264228\n",
        "\n",
        "\n",
        "accuracy score for GaussianNB is: 0.931034482759\n",
        "precision score for GaussianNB is: 0.948219376539"
       ]
      },
      {
       "output_type": "stream",
       "stream": "stdout",
       "text": [
        "\n",
        "recall score for GaussianNB is: 0.940074906367\n",
        "F1 score for GaussianNB is: 0.943525081974\n",
        "\n",
        "\n",
        "accuracy score for SVC is: 0.954022988506\n",
        "precision score for SVC is: 0.977123246718"
       ]
      },
      {
       "output_type": "stream",
       "stream": "stdout",
       "text": [
        "\n",
        "recall score for SVC is: 0.947565543071\n",
        "F1 score for SVC is: 0.961803989438\n",
        "\n",
        "\n",
        "accuracy score for Decision Tree is: 0.947126436782\n",
        "precision score for Decision Tree is: 0.962245214291\n",
        "recall score for Decision Tree is: 0.951310861423\n",
        "F1 score for Decision Tree is: 0.964144172043"
       ]
      },
      {
       "output_type": "stream",
       "stream": "stdout",
       "text": [
        "\n",
        "\n",
        "\n",
        "accuracy score for Random Forest is: 0.954022988506\n",
        "precision score for Random Forest is: 0.977082218655"
       ]
      },
      {
       "output_type": "stream",
       "stream": "stdout",
       "text": [
        "\n",
        "recall score for Random Forest is: 0.955056179775\n",
        "F1 score for Random Forest is: 0.965556730092"
       ]
      },
      {
       "output_type": "stream",
       "stream": "stdout",
       "text": [
        "\n",
        "\n",
        "\n"
       ]
      }
     ],
     "prompt_number": 145
    },
    {
     "cell_type": "markdown",
     "metadata": {},
     "source": [
      "## Challenge 4"
     ]
    },
    {
     "cell_type": "code",
     "collapsed": false,
     "input": [
      "movies = pd.read_csv('2013_movies.csv')\n",
      "movies.head()"
     ],
     "language": "python",
     "metadata": {},
     "outputs": [
      {
       "html": [
        "<div style=\"max-height:1000px;max-width:1500px;overflow:auto;\">\n",
        "<table border=\"1\" class=\"dataframe\">\n",
        "  <thead>\n",
        "    <tr style=\"text-align: right;\">\n",
        "      <th></th>\n",
        "      <th>Title</th>\n",
        "      <th>Budget</th>\n",
        "      <th>DomesticTotalGross</th>\n",
        "      <th>Director</th>\n",
        "      <th>Rating</th>\n",
        "      <th>Runtime</th>\n",
        "      <th>ReleaseDate</th>\n",
        "    </tr>\n",
        "  </thead>\n",
        "  <tbody>\n",
        "    <tr>\n",
        "      <th>0</th>\n",
        "      <td> The Hunger Games: Catching Fire</td>\n",
        "      <td> 130000000</td>\n",
        "      <td> 424668047</td>\n",
        "      <td>          Francis Lawrence</td>\n",
        "      <td> PG-13</td>\n",
        "      <td> 146</td>\n",
        "      <td> 2013-11-22 00:00:00</td>\n",
        "    </tr>\n",
        "    <tr>\n",
        "      <th>1</th>\n",
        "      <td>                      Iron Man 3</td>\n",
        "      <td> 200000000</td>\n",
        "      <td> 409013994</td>\n",
        "      <td>               Shane Black</td>\n",
        "      <td> PG-13</td>\n",
        "      <td> 129</td>\n",
        "      <td> 2013-05-03 00:00:00</td>\n",
        "    </tr>\n",
        "    <tr>\n",
        "      <th>2</th>\n",
        "      <td>                          Frozen</td>\n",
        "      <td> 150000000</td>\n",
        "      <td> 400738009</td>\n",
        "      <td>    Chris BuckJennifer Lee</td>\n",
        "      <td>    PG</td>\n",
        "      <td> 108</td>\n",
        "      <td> 2013-11-22 00:00:00</td>\n",
        "    </tr>\n",
        "    <tr>\n",
        "      <th>3</th>\n",
        "      <td>                 Despicable Me 2</td>\n",
        "      <td>  76000000</td>\n",
        "      <td> 368061265</td>\n",
        "      <td> Pierre CoffinChris Renaud</td>\n",
        "      <td>    PG</td>\n",
        "      <td>  98</td>\n",
        "      <td> 2013-07-03 00:00:00</td>\n",
        "    </tr>\n",
        "    <tr>\n",
        "      <th>4</th>\n",
        "      <td>                    Man of Steel</td>\n",
        "      <td> 225000000</td>\n",
        "      <td> 291045518</td>\n",
        "      <td>               Zack Snyder</td>\n",
        "      <td> PG-13</td>\n",
        "      <td> 143</td>\n",
        "      <td> 2013-06-14 00:00:00</td>\n",
        "    </tr>\n",
        "  </tbody>\n",
        "</table>\n",
        "</div>"
       ],
       "metadata": {},
       "output_type": "pyout",
       "prompt_number": 148,
       "text": [
        "                             Title     Budget  DomesticTotalGross  \\\n",
        "0  The Hunger Games: Catching Fire  130000000           424668047   \n",
        "1                       Iron Man 3  200000000           409013994   \n",
        "2                           Frozen  150000000           400738009   \n",
        "3                  Despicable Me 2   76000000           368061265   \n",
        "4                     Man of Steel  225000000           291045518   \n",
        "\n",
        "                    Director Rating  Runtime          ReleaseDate  \n",
        "0           Francis Lawrence  PG-13      146  2013-11-22 00:00:00  \n",
        "1                Shane Black  PG-13      129  2013-05-03 00:00:00  \n",
        "2     Chris BuckJennifer Lee     PG      108  2013-11-22 00:00:00  \n",
        "3  Pierre CoffinChris Renaud     PG       98  2013-07-03 00:00:00  \n",
        "4                Zack Snyder  PG-13      143  2013-06-14 00:00:00  "
       ]
      }
     ],
     "prompt_number": 148
    },
    {
     "cell_type": "code",
     "collapsed": false,
     "input": [
      "movies2 = movies[['Rating','Budget','DomesticTotalGross','Runtime']]\n",
      "movies2 = movies2[(np.isnan(movies2['Budget']) == False)]\n",
      "len(movies2)"
     ],
     "language": "python",
     "metadata": {},
     "outputs": [
      {
       "metadata": {},
       "output_type": "pyout",
       "prompt_number": 149,
       "text": [
        "89"
       ]
      }
     ],
     "prompt_number": 149
    },
    {
     "cell_type": "code",
     "collapsed": false,
     "input": [
      "training_set, test_set = train_test_split(movies2, test_size=.30, random_state=4444)"
     ],
     "language": "python",
     "metadata": {},
     "outputs": [],
     "prompt_number": 150
    },
    {
     "cell_type": "markdown",
     "metadata": {},
     "source": [
      "#### KNN: Accuracy, Precision, Recall, F1"
     ]
    },
    {
     "cell_type": "code",
     "collapsed": false,
     "input": [
      "# split training set into features and target value\n",
      "X_training = []\n",
      "y_training = []\n",
      "for i in range(len(training_set)):\n",
      "    X_training.append(training_set[i][1:])\n",
      "    y_training.append(training_set[i][0])\n",
      "\n",
      "# split test set into features and target value\n",
      "X_test = []\n",
      "y_test = []\n",
      "for j in range(len(test_set)):\n",
      "    X_test.append(test_set[j][1:])\n",
      "    y_test.append(test_set[j][0])\n",
      "\n",
      "the_scores = []\n",
      "#fit and test the model\n",
      "for k in range(20):\n",
      "    # fit the model\n",
      "    neigh = KNeighborsClassifier(n_neighbors=k+1)\n",
      "    neigh.fit(X_training, y_training)    \n",
      "    # test the model\n",
      "    y_predicted = neigh.predict(X_test)\n",
      "    score = accuracy_score(y_test, y_predicted)\n",
      "    the_scores.append(score)\n",
      "\n",
      "maxv = max(the_scores)\n",
      "k_vals = []\n",
      "for m in range(len(the_scores)):\n",
      "    if the_scores[m] == maxv:\n",
      "        k_vals.append(m+1)\n",
      "        \n",
      "print 'the best k values are', k_vals\n",
      "print 'the max score for these values are', maxv"
     ],
     "language": "python",
     "metadata": {},
     "outputs": [
      {
       "output_type": "stream",
       "stream": "stdout",
       "text": [
        "the best k values are [14]\n",
        "the max score for these values are 0.518518518519\n"
       ]
      }
     ],
     "prompt_number": 151
    },
    {
     "cell_type": "code",
     "collapsed": false,
     "input": [
      "# using k = 14\n",
      "new_neigh = KNeighborsClassifier(n_neighbors=14)\n",
      "new_neigh.fit(X_training,y_training)\n",
      "y_predicted = new_neigh.predict(X_test)\n",
      "score = accuracy_score(y_test,y_predicted)\n",
      "print 'accuracy score:',score\n",
      "print 'precision score:',skm.precision_score(y_test,y_predicted)\n",
      "print 'recall score:',skm.recall_score(y_test,y_predicted)\n",
      "print 'F1 score:',skm.f1_score(y_test,y_predicted)"
     ],
     "language": "python",
     "metadata": {},
     "outputs": [
      {
       "output_type": "stream",
       "stream": "stdout",
       "text": [
        "accuracy score: 0.518518518519\n",
        "precision score: 0.6\n",
        "recall score: 0.518518518519\n",
        "F1 score: 0.507575757576\n"
       ]
      }
     ],
     "prompt_number": 152
    },
    {
     "cell_type": "markdown",
     "metadata": {},
     "source": [
      "#### Logistic Regression: Accuracy, Precision, Recall, F1"
     ]
    },
    {
     "cell_type": "code",
     "collapsed": false,
     "input": [
      "model_log = LogisticRegression()\n",
      "model_log.fit(X_training,y_training)\n",
      "\n",
      "y_predicted_log = model_log.predict(X_test)\n",
      "score_log = accuracy_score(y_test,y_predicted_log)\n",
      "print 'accuracy:', score_log\n",
      "print 'precision score:',skm.precision_score(y_test,y_predicted_log)\n",
      "print 'recall score:',skm.recall_score(y_test,y_predicted_log)\n",
      "print 'F1 score:',skm.f1_score(y_test,y_predicted_log)"
     ],
     "language": "python",
     "metadata": {},
     "outputs": [
      {
       "output_type": "stream",
       "stream": "stdout",
       "text": [
        "accuracy: 0.481481481481\n",
        "precision score: 0.37922705314\n",
        "recall score: 0.481481481481\n",
        "F1 score: 0.381929181929\n"
       ]
      }
     ],
     "prompt_number": 154
    },
    {
     "cell_type": "markdown",
     "metadata": {},
     "source": [
      "## Challenge 5"
     ]
    },
    {
     "cell_type": "code",
     "collapsed": false,
     "input": [
      "headers = ['Age','OpYear','PosNodes','Status']\n",
      "cancer = pd.read_csv('haberman.data',names = headers)\n",
      "cancer['Status']=cancer['Status'].replace(2,0) #to make the variable binary\n",
      "print cancer.head()\n",
      "print len(cancer)"
     ],
     "language": "python",
     "metadata": {},
     "outputs": [
      {
       "output_type": "stream",
       "stream": "stdout",
       "text": [
        "   Age  OpYear  PosNodes  Status\n",
        "0   30      64         1       1\n",
        "1   30      62         3       1\n",
        "2   30      65         0       1\n",
        "3   31      59         2       1\n",
        "4   31      65         4       1\n",
        "306\n"
       ]
      }
     ],
     "prompt_number": 172
    },
    {
     "cell_type": "code",
     "collapsed": false,
     "input": [
      "training_set, test_set = train_test_split(cancer, test_size=.30, random_state=4444)"
     ],
     "language": "python",
     "metadata": {},
     "outputs": [],
     "prompt_number": 173
    },
    {
     "cell_type": "code",
     "collapsed": false,
     "input": [
      "# split training set into features and target value\n",
      "X_training = []\n",
      "y_training = []\n",
      "for i in range(len(training_set)):\n",
      "    X_training.append(training_set[i][:-1])\n",
      "    y_training.append(training_set[i][3])\n",
      "\n",
      "# split test set into features and target value\n",
      "X_test = []\n",
      "y_test = []\n",
      "for j in range(len(test_set)):\n",
      "    X_test.append(test_set[j][:-1])\n",
      "    y_test.append(test_set[j][3])"
     ],
     "language": "python",
     "metadata": {},
     "outputs": [],
     "prompt_number": 174
    },
    {
     "cell_type": "markdown",
     "metadata": {},
     "source": [
      "#### Logistic Regression: ROC Curve"
     ]
    },
    {
     "cell_type": "code",
     "collapsed": false,
     "input": [
      "model_log = LogisticRegression()\n",
      "model_log.fit(X_training,y_training)\n",
      "\n",
      "y_score_logistic = model_log.fit(X_training, y_training).decision_function(X_test)\n",
      "fpr, tpr, threshold = skm.roc_curve(y_test,y_score_logistic)\n",
      "\n",
      "plt.plot(fpr,tpr)\n",
      "plt.xlabel('False Positive Rate')\n",
      "plt.ylabel('True Positive Rate')\n",
      "plt.xlim([-0.1, 1])\n",
      "plt.ylim([-0.1,1.1])\n",
      "plt.plot([0, 1], [0, 1], 'k--')\n",
      "\n",
      "print 'ROC AUC score is', skm.roc_auc_score(y_test,y_score_logistic)"
     ],
     "language": "python",
     "metadata": {},
     "outputs": [
      {
       "output_type": "stream",
       "stream": "stdout",
       "text": [
        "ROC AUC score is 0.647522522523\n"
       ]
      },
      {
       "metadata": {},
       "output_type": "display_data",
       "png": "[encoded data removed]",
       "text": [
        "<matplotlib.figure.Figure at 0x10a110650>"
       ]
      }
     ],
     "prompt_number": 175
    }
   ],
   "metadata": {}
  }
 ]
}