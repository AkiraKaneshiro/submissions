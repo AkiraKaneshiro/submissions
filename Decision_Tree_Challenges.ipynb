{
 "metadata": {
  "name": "",
  "signature": "sha256:3effc97e238aa4e563e90579224aaf02929334ddf339a69e5cca9d52da7a79b1"
 },
 "nbformat": 3,
 "nbformat_minor": 0,
 "worksheets": [
  {
   "cells": [
    {
     "cell_type": "markdown",
     "metadata": {},
     "source": [
      "## Dara Elass"
     ]
    },
    {
     "cell_type": "markdown",
     "metadata": {},
     "source": [
      "### Import modules"
     ]
    },
    {
     "cell_type": "code",
     "collapsed": false,
     "input": [
      "import pandas as pd\n",
      "import numpy as np\n",
      "import math\n",
      "from sklearn import tree\n",
      "from sklearn.externals.six import StringIO \n",
      "import pydot\n",
      "import os\n",
      "# import graphviz\n",
      "import matplotlib.pyplot as plt\n",
      "from sklearn.metrics import accuracy_score\n",
      "%matplotlib inline"
     ],
     "language": "python",
     "metadata": {},
     "outputs": [],
     "prompt_number": 15
    },
    {
     "cell_type": "markdown",
     "metadata": {},
     "source": [
      "### Data Import"
     ]
    },
    {
     "cell_type": "code",
     "collapsed": false,
     "input": [
      "data_headers = ['class name']\n",
      "for i in range(16):\n",
      "    data_headers.append(str(i+2))\n",
      "votes_df = pd.read_csv('house-votes-84.data', names= data_headers)\n",
      "\n",
      "votes_df = votes_df.replace('y',1)\n",
      "votes_df = votes_df.replace('n',0)\n",
      "votes_df = votes_df.replace('?',np.nan)\n",
      "\n",
      "for i in range(16):\n",
      "    issue = str(i+2)\n",
      "    themean = votes_df[issue].mean()\n",
      "    votes_df[issue] = votes_df[issue].replace(np.nan,themean)\n",
      "\n",
      "votes_df.head()"
     ],
     "language": "python",
     "metadata": {},
     "outputs": [
      {
       "html": [
        "<div style=\"max-height:1000px;max-width:1500px;overflow:auto;\">\n",
        "<table border=\"1\" class=\"dataframe\">\n",
        "  <thead>\n",
        "    <tr style=\"text-align: right;\">\n",
        "      <th></th>\n",
        "      <th>class name</th>\n",
        "      <th>2</th>\n",
        "      <th>3</th>\n",
        "      <th>4</th>\n",
        "      <th>5</th>\n",
        "      <th>6</th>\n",
        "      <th>7</th>\n",
        "      <th>8</th>\n",
        "      <th>9</th>\n",
        "      <th>10</th>\n",
        "      <th>11</th>\n",
        "      <th>12</th>\n",
        "      <th>13</th>\n",
        "      <th>14</th>\n",
        "      <th>15</th>\n",
        "      <th>16</th>\n",
        "      <th>17</th>\n",
        "    </tr>\n",
        "  </thead>\n",
        "  <tbody>\n",
        "    <tr>\n",
        "      <th>0</th>\n",
        "      <td> republican</td>\n",
        "      <td> 0.00000</td>\n",
        "      <td> 1</td>\n",
        "      <td> 0</td>\n",
        "      <td> 1.000000</td>\n",
        "      <td> 1.000000</td>\n",
        "      <td> 1</td>\n",
        "      <td> 0</td>\n",
        "      <td> 0</td>\n",
        "      <td> 0</td>\n",
        "      <td> 1</td>\n",
        "      <td> 0.362319</td>\n",
        "      <td> 1.000000</td>\n",
        "      <td> 1</td>\n",
        "      <td> 1</td>\n",
        "      <td> 0</td>\n",
        "      <td> 1.000000</td>\n",
        "    </tr>\n",
        "    <tr>\n",
        "      <th>1</th>\n",
        "      <td> republican</td>\n",
        "      <td> 0.00000</td>\n",
        "      <td> 1</td>\n",
        "      <td> 0</td>\n",
        "      <td> 1.000000</td>\n",
        "      <td> 1.000000</td>\n",
        "      <td> 1</td>\n",
        "      <td> 0</td>\n",
        "      <td> 0</td>\n",
        "      <td> 0</td>\n",
        "      <td> 0</td>\n",
        "      <td> 0.000000</td>\n",
        "      <td> 1.000000</td>\n",
        "      <td> 1</td>\n",
        "      <td> 1</td>\n",
        "      <td> 0</td>\n",
        "      <td> 0.812689</td>\n",
        "    </tr>\n",
        "    <tr>\n",
        "      <th>2</th>\n",
        "      <td>   democrat</td>\n",
        "      <td> 0.44208</td>\n",
        "      <td> 1</td>\n",
        "      <td> 1</td>\n",
        "      <td> 0.417453</td>\n",
        "      <td> 1.000000</td>\n",
        "      <td> 1</td>\n",
        "      <td> 0</td>\n",
        "      <td> 0</td>\n",
        "      <td> 0</td>\n",
        "      <td> 0</td>\n",
        "      <td> 1.000000</td>\n",
        "      <td> 0.000000</td>\n",
        "      <td> 1</td>\n",
        "      <td> 1</td>\n",
        "      <td> 0</td>\n",
        "      <td> 0.000000</td>\n",
        "    </tr>\n",
        "    <tr>\n",
        "      <th>3</th>\n",
        "      <td>   democrat</td>\n",
        "      <td> 0.00000</td>\n",
        "      <td> 1</td>\n",
        "      <td> 1</td>\n",
        "      <td> 0.000000</td>\n",
        "      <td> 0.504762</td>\n",
        "      <td> 1</td>\n",
        "      <td> 0</td>\n",
        "      <td> 0</td>\n",
        "      <td> 0</td>\n",
        "      <td> 0</td>\n",
        "      <td> 1.000000</td>\n",
        "      <td> 0.000000</td>\n",
        "      <td> 1</td>\n",
        "      <td> 0</td>\n",
        "      <td> 0</td>\n",
        "      <td> 1.000000</td>\n",
        "    </tr>\n",
        "    <tr>\n",
        "      <th>4</th>\n",
        "      <td>   democrat</td>\n",
        "      <td> 1.00000</td>\n",
        "      <td> 1</td>\n",
        "      <td> 1</td>\n",
        "      <td> 0.000000</td>\n",
        "      <td> 1.000000</td>\n",
        "      <td> 1</td>\n",
        "      <td> 0</td>\n",
        "      <td> 0</td>\n",
        "      <td> 0</td>\n",
        "      <td> 0</td>\n",
        "      <td> 1.000000</td>\n",
        "      <td> 0.423267</td>\n",
        "      <td> 1</td>\n",
        "      <td> 1</td>\n",
        "      <td> 1</td>\n",
        "      <td> 1.000000</td>\n",
        "    </tr>\n",
        "  </tbody>\n",
        "</table>\n",
        "</div>"
       ],
       "metadata": {},
       "output_type": "pyout",
       "prompt_number": 8,
       "text": [
        "   class name        2  3  4         5         6  7  8  9  10  11        12  \\\n",
        "0  republican  0.00000  1  0  1.000000  1.000000  1  0  0   0   1  0.362319   \n",
        "1  republican  0.00000  1  0  1.000000  1.000000  1  0  0   0   0  0.000000   \n",
        "2    democrat  0.44208  1  1  0.417453  1.000000  1  0  0   0   0  1.000000   \n",
        "3    democrat  0.00000  1  1  0.000000  0.504762  1  0  0   0   0  1.000000   \n",
        "4    democrat  1.00000  1  1  0.000000  1.000000  1  0  0   0   0  1.000000   \n",
        "\n",
        "         13  14  15  16        17  \n",
        "0  1.000000   1   1   0  1.000000  \n",
        "1  1.000000   1   1   0  0.812689  \n",
        "2  0.000000   1   1   0  0.000000  \n",
        "3  0.000000   1   0   0  1.000000  \n",
        "4  0.423267   1   1   1  1.000000  "
       ]
      }
     ],
     "prompt_number": 8
    },
    {
     "cell_type": "markdown",
     "metadata": {},
     "source": [
      "### Challenge 1: For the house representatives data set, fit and plot a decision tree classifier"
     ]
    },
    {
     "cell_type": "code",
     "collapsed": false,
     "input": [
      "X = votes_df[['2','3','4','5','6','7','8','9','10','11','12','13','14','15','16','17']]\n",
      "Y = votes_df['class name']\n",
      "\n",
      "tree_model = tree.DecisionTreeClassifier()\n",
      "tree_model.fit(X,Y)"
     ],
     "language": "python",
     "metadata": {},
     "outputs": [
      {
       "metadata": {},
       "output_type": "pyout",
       "prompt_number": 9,
       "text": [
        "DecisionTreeClassifier(compute_importances=None, criterion='gini',\n",
        "            max_depth=None, max_features=None, max_leaf_nodes=None,\n",
        "            min_density=None, min_samples_leaf=1, min_samples_split=2,\n",
        "            random_state=None, splitter='best')"
       ]
      }
     ],
     "prompt_number": 9
    },
    {
     "cell_type": "code",
     "collapsed": false,
     "input": [
      "dot_data = StringIO() \n",
      "tree.export_graphviz(tree_model, out_file=dot_data) \n",
      "graph = pydot.graph_from_dot_data(dot_data.getvalue()) \n",
      "graph.write_pdf(\"decision_tree_challenge1.pdf\")"
     ],
     "language": "python",
     "metadata": {},
     "outputs": [
      {
       "metadata": {},
       "output_type": "pyout",
       "prompt_number": 5,
       "text": [
        "True"
       ]
      }
     ],
     "prompt_number": 5
    },
    {
     "cell_type": "markdown",
     "metadata": {},
     "source": [
      "### Challenge 2: Fit and draw a decision tree classifier for your movie dataset"
     ]
    },
    {
     "cell_type": "code",
     "collapsed": false,
     "input": [
      "movies = pd.read_csv('2013_movies.csv')\n",
      "print len(movies)\n",
      "movies = movies[~np.isnan(movies['Budget'])]\n",
      "print len(movies)\n",
      "print movies.head()\n",
      "\n",
      "X_movies = movies[['Budget','Runtime']]\n",
      "Y_movies = movies[['DomesticTotalGross']]"
     ],
     "language": "python",
     "metadata": {},
     "outputs": [
      {
       "output_type": "stream",
       "stream": "stdout",
       "text": [
        "100\n",
        "89\n",
        "                             Title     Budget  DomesticTotalGross  \\\n",
        "0  The Hunger Games: Catching Fire  130000000           424668047   \n",
        "1                       Iron Man 3  200000000           409013994   \n",
        "2                           Frozen  150000000           400738009   \n",
        "3                  Despicable Me 2   76000000           368061265   \n",
        "4                     Man of Steel  225000000           291045518   \n",
        "\n",
        "                    Director Rating  Runtime          ReleaseDate  \n",
        "0           Francis Lawrence  PG-13      146  2013-11-22 00:00:00  \n",
        "1                Shane Black  PG-13      129  2013-05-03 00:00:00  \n",
        "2     Chris BuckJennifer Lee     PG      108  2013-11-22 00:00:00  \n",
        "3  Pierre CoffinChris Renaud     PG       98  2013-07-03 00:00:00  \n",
        "4                Zack Snyder  PG-13      143  2013-06-14 00:00:00  \n"
       ]
      }
     ],
     "prompt_number": 10
    },
    {
     "cell_type": "code",
     "collapsed": false,
     "input": [
      "tree_model_movies = tree.DecisionTreeClassifier()\n",
      "tree_model_movies.fit(X_movies,Y_movies)\n",
      "\n",
      "# dot_data = StringIO() \n",
      "# tree.export_graphviz(tree_model_movies, out_file=dot_data) \n",
      "# graph = pydot.graph_from_dot_data(dot_data.getvalue()) \n",
      "# graph.write_pdf(\"decision_tree_challenge2.pdf\")"
     ],
     "language": "python",
     "metadata": {},
     "outputs": [
      {
       "metadata": {},
       "output_type": "pyout",
       "prompt_number": 11,
       "text": [
        "DecisionTreeClassifier(compute_importances=None, criterion='gini',\n",
        "            max_depth=None, max_features=None, max_leaf_nodes=None,\n",
        "            min_density=None, min_samples_leaf=1, min_samples_split=2,\n",
        "            random_state=None, splitter='best')"
       ]
      }
     ],
     "prompt_number": 11
    },
    {
     "cell_type": "markdown",
     "metadata": {},
     "source": [
      "### Challenge 3: Tackle the Titanic Survivors kaggle competition6 with decision trees. Look at your splits, how does your tree decide?"
     ]
    },
    {
     "cell_type": "code",
     "collapsed": false,
     "input": [
      "# get data\n",
      "training = pd.read_csv('train.csv')\n",
      "print training.head()\n",
      "test = pd.read_csv('test.csv')\n",
      "# edit nan values\n",
      "themean = training['Age'].mean()\n",
      "training['Age'] = training['Age'].replace(np.nan,themean)\n",
      "themean2 = test['Age'].mean()\n",
      "test['Age'] = test['Age'].replace(np.nan,themean2)\n",
      "\n",
      "# replace male and female with 0 and 1\n",
      "training['Sex'] = training['Sex'].replace('male',0)\n",
      "training['Sex'] = training['Sex'].replace('female',1)\n",
      "test['Sex'] = test['Sex'].replace('male',0)\n",
      "test['Sex'] = test['Sex'].replace('female',1)\n",
      "\n",
      "# divide into x and y variables\n",
      "X_training = training[['Pclass','Sex','Age','SibSp']]\n",
      "Y_training = training[['Survived']]\n",
      "X_test = test[['Pclass','Sex','Age','SibSp']]\n",
      "\n",
      "print X_test.head()"
     ],
     "language": "python",
     "metadata": {},
     "outputs": [
      {
       "output_type": "stream",
       "stream": "stdout",
       "text": [
        "   PassengerId  Survived  Pclass  \\\n",
        "0            1         0       3   \n",
        "1            2         1       1   \n",
        "2            3         1       3   \n",
        "3            4         1       1   \n",
        "4            5         0       3   \n",
        "\n",
        "                                                Name     Sex  Age  SibSp  \\\n",
        "0                            Braund, Mr. Owen Harris    male   22      1   \n",
        "1  Cumings, Mrs. John Bradley (Florence Briggs Th...  female   38      1   \n",
        "2                             Heikkinen, Miss. Laina  female   26      0   \n",
        "3       Futrelle, Mrs. Jacques Heath (Lily May Peel)  female   35      1   \n",
        "4                           Allen, Mr. William Henry    male   35      0   \n",
        "\n",
        "   Parch            Ticket     Fare Cabin Embarked  \n",
        "0      0         A/5 21171   7.2500   NaN        S  \n",
        "1      0          PC 17599  71.2833   C85        C  \n",
        "2      0  STON/O2. 3101282   7.9250   NaN        S  \n",
        "3      0            113803  53.1000  C123        S  \n",
        "4      0            373450   8.0500   NaN        S  \n",
        "   Pclass  Sex   Age  SibSp\n",
        "0       3    0  34.5      0\n",
        "1       3    1  47.0      1\n",
        "2       2    0  62.0      0\n",
        "3       3    0  27.0      0\n",
        "4       3    1  22.0      1\n"
       ]
      }
     ],
     "prompt_number": 48
    },
    {
     "cell_type": "code",
     "collapsed": false,
     "input": [
      "titanic_tree = tree.DecisionTreeClassifier()\n",
      "titanic_tree.fit(X_training,Y_training)\n",
      "\n",
      "y_predicted = titanic_tree.predict(X_test)\n",
      "\n",
      "predictions = pd.DataFrame(test['PassengerId'])\n",
      "predictions['Survived']=y_predicted\n",
      "\n",
      "predictions.to_csv('genderclass.csv', index=False)"
     ],
     "language": "python",
     "metadata": {},
     "outputs": [],
     "prompt_number": 47
    }
   ],
   "metadata": {}
  }
 ]
}